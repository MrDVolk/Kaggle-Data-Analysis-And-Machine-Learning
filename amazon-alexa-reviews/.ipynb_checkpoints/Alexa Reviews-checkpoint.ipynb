{
 "cells": [
  {
   "cell_type": "code",
   "execution_count": 194,
   "metadata": {},
   "outputs": [],
   "source": [
    "import pandas as pd\n",
    "import numpy as np\n",
    "import matplotlib.pyplot as plt\n",
    "import seaborn as sns\n",
    "import re\n",
    "import nltk # wonderful tutorial can be found here https://pythonprogramming.net/tokenizing-words-sentences-nltk-tutorial/\n",
    "\n",
    "%matplotlib inline"
   ]
  },
  {
   "cell_type": "code",
   "execution_count": 2,
   "metadata": {},
   "outputs": [],
   "source": [
    "df = pd.read_csv('amazon_alexa.tsv', sep='\\t')"
   ]
  },
  {
   "cell_type": "markdown",
   "metadata": {},
   "source": [
    "# Initial data exploration"
   ]
  },
  {
   "cell_type": "code",
   "execution_count": 3,
   "metadata": {},
   "outputs": [
    {
     "data": {
      "text/html": [
       "<div>\n",
       "<style>\n",
       "    .dataframe thead tr:only-child th {\n",
       "        text-align: right;\n",
       "    }\n",
       "\n",
       "    .dataframe thead th {\n",
       "        text-align: left;\n",
       "    }\n",
       "\n",
       "    .dataframe tbody tr th {\n",
       "        vertical-align: top;\n",
       "    }\n",
       "</style>\n",
       "<table border=\"1\" class=\"dataframe\">\n",
       "  <thead>\n",
       "    <tr style=\"text-align: right;\">\n",
       "      <th></th>\n",
       "      <th>rating</th>\n",
       "      <th>date</th>\n",
       "      <th>variation</th>\n",
       "      <th>verified_reviews</th>\n",
       "      <th>feedback</th>\n",
       "    </tr>\n",
       "  </thead>\n",
       "  <tbody>\n",
       "    <tr>\n",
       "      <th>0</th>\n",
       "      <td>5</td>\n",
       "      <td>31-Jul-18</td>\n",
       "      <td>Charcoal Fabric</td>\n",
       "      <td>Love my Echo!</td>\n",
       "      <td>1</td>\n",
       "    </tr>\n",
       "    <tr>\n",
       "      <th>1</th>\n",
       "      <td>5</td>\n",
       "      <td>31-Jul-18</td>\n",
       "      <td>Charcoal Fabric</td>\n",
       "      <td>Loved it!</td>\n",
       "      <td>1</td>\n",
       "    </tr>\n",
       "    <tr>\n",
       "      <th>2</th>\n",
       "      <td>4</td>\n",
       "      <td>31-Jul-18</td>\n",
       "      <td>Walnut Finish</td>\n",
       "      <td>Sometimes while playing a game, you can answer...</td>\n",
       "      <td>1</td>\n",
       "    </tr>\n",
       "    <tr>\n",
       "      <th>3</th>\n",
       "      <td>5</td>\n",
       "      <td>31-Jul-18</td>\n",
       "      <td>Charcoal Fabric</td>\n",
       "      <td>I have had a lot of fun with this thing. My 4 ...</td>\n",
       "      <td>1</td>\n",
       "    </tr>\n",
       "    <tr>\n",
       "      <th>4</th>\n",
       "      <td>5</td>\n",
       "      <td>31-Jul-18</td>\n",
       "      <td>Charcoal Fabric</td>\n",
       "      <td>Music</td>\n",
       "      <td>1</td>\n",
       "    </tr>\n",
       "    <tr>\n",
       "      <th>5</th>\n",
       "      <td>5</td>\n",
       "      <td>31-Jul-18</td>\n",
       "      <td>Heather Gray Fabric</td>\n",
       "      <td>I received the echo as a gift. I needed anothe...</td>\n",
       "      <td>1</td>\n",
       "    </tr>\n",
       "    <tr>\n",
       "      <th>6</th>\n",
       "      <td>3</td>\n",
       "      <td>31-Jul-18</td>\n",
       "      <td>Sandstone Fabric</td>\n",
       "      <td>Without having a cellphone, I cannot use many ...</td>\n",
       "      <td>1</td>\n",
       "    </tr>\n",
       "    <tr>\n",
       "      <th>7</th>\n",
       "      <td>5</td>\n",
       "      <td>31-Jul-18</td>\n",
       "      <td>Charcoal Fabric</td>\n",
       "      <td>I think this is the 5th one I've purchased. I'...</td>\n",
       "      <td>1</td>\n",
       "    </tr>\n",
       "    <tr>\n",
       "      <th>8</th>\n",
       "      <td>5</td>\n",
       "      <td>30-Jul-18</td>\n",
       "      <td>Heather Gray Fabric</td>\n",
       "      <td>looks great</td>\n",
       "      <td>1</td>\n",
       "    </tr>\n",
       "    <tr>\n",
       "      <th>9</th>\n",
       "      <td>5</td>\n",
       "      <td>30-Jul-18</td>\n",
       "      <td>Heather Gray Fabric</td>\n",
       "      <td>Love it! I’ve listened to songs I haven’t hear...</td>\n",
       "      <td>1</td>\n",
       "    </tr>\n",
       "  </tbody>\n",
       "</table>\n",
       "</div>"
      ],
      "text/plain": [
       "   rating       date             variation  \\\n",
       "0       5  31-Jul-18      Charcoal Fabric    \n",
       "1       5  31-Jul-18      Charcoal Fabric    \n",
       "2       4  31-Jul-18        Walnut Finish    \n",
       "3       5  31-Jul-18      Charcoal Fabric    \n",
       "4       5  31-Jul-18      Charcoal Fabric    \n",
       "5       5  31-Jul-18  Heather Gray Fabric    \n",
       "6       3  31-Jul-18     Sandstone Fabric    \n",
       "7       5  31-Jul-18      Charcoal Fabric    \n",
       "8       5  30-Jul-18  Heather Gray Fabric    \n",
       "9       5  30-Jul-18  Heather Gray Fabric    \n",
       "\n",
       "                                    verified_reviews  feedback  \n",
       "0                                      Love my Echo!         1  \n",
       "1                                          Loved it!         1  \n",
       "2  Sometimes while playing a game, you can answer...         1  \n",
       "3  I have had a lot of fun with this thing. My 4 ...         1  \n",
       "4                                              Music         1  \n",
       "5  I received the echo as a gift. I needed anothe...         1  \n",
       "6  Without having a cellphone, I cannot use many ...         1  \n",
       "7  I think this is the 5th one I've purchased. I'...         1  \n",
       "8                                        looks great         1  \n",
       "9  Love it! I’ve listened to songs I haven’t hear...         1  "
      ]
     },
     "execution_count": 3,
     "metadata": {},
     "output_type": "execute_result"
    }
   ],
   "source": [
    "df.head(10)"
   ]
  },
  {
   "cell_type": "code",
   "execution_count": 4,
   "metadata": {},
   "outputs": [
    {
     "data": {
      "text/html": [
       "<div>\n",
       "<style>\n",
       "    .dataframe thead tr:only-child th {\n",
       "        text-align: right;\n",
       "    }\n",
       "\n",
       "    .dataframe thead th {\n",
       "        text-align: left;\n",
       "    }\n",
       "\n",
       "    .dataframe tbody tr th {\n",
       "        vertical-align: top;\n",
       "    }\n",
       "</style>\n",
       "<table border=\"1\" class=\"dataframe\">\n",
       "  <thead>\n",
       "    <tr style=\"text-align: right;\">\n",
       "      <th></th>\n",
       "      <th>rating</th>\n",
       "      <th>feedback</th>\n",
       "    </tr>\n",
       "  </thead>\n",
       "  <tbody>\n",
       "    <tr>\n",
       "      <th>count</th>\n",
       "      <td>3150.000000</td>\n",
       "      <td>3150.000000</td>\n",
       "    </tr>\n",
       "    <tr>\n",
       "      <th>mean</th>\n",
       "      <td>4.463175</td>\n",
       "      <td>0.918413</td>\n",
       "    </tr>\n",
       "    <tr>\n",
       "      <th>std</th>\n",
       "      <td>1.068506</td>\n",
       "      <td>0.273778</td>\n",
       "    </tr>\n",
       "    <tr>\n",
       "      <th>min</th>\n",
       "      <td>1.000000</td>\n",
       "      <td>0.000000</td>\n",
       "    </tr>\n",
       "    <tr>\n",
       "      <th>25%</th>\n",
       "      <td>4.000000</td>\n",
       "      <td>1.000000</td>\n",
       "    </tr>\n",
       "    <tr>\n",
       "      <th>50%</th>\n",
       "      <td>5.000000</td>\n",
       "      <td>1.000000</td>\n",
       "    </tr>\n",
       "    <tr>\n",
       "      <th>75%</th>\n",
       "      <td>5.000000</td>\n",
       "      <td>1.000000</td>\n",
       "    </tr>\n",
       "    <tr>\n",
       "      <th>max</th>\n",
       "      <td>5.000000</td>\n",
       "      <td>1.000000</td>\n",
       "    </tr>\n",
       "  </tbody>\n",
       "</table>\n",
       "</div>"
      ],
      "text/plain": [
       "            rating     feedback\n",
       "count  3150.000000  3150.000000\n",
       "mean      4.463175     0.918413\n",
       "std       1.068506     0.273778\n",
       "min       1.000000     0.000000\n",
       "25%       4.000000     1.000000\n",
       "50%       5.000000     1.000000\n",
       "75%       5.000000     1.000000\n",
       "max       5.000000     1.000000"
      ]
     },
     "execution_count": 4,
     "metadata": {},
     "output_type": "execute_result"
    }
   ],
   "source": [
    "df.describe()"
   ]
  },
  {
   "cell_type": "markdown",
   "metadata": {},
   "source": [
    "It seems unreasonable to use any data except for the reviews and their rating. We could have product variation categorized and then create chart which one is the best, but it is outside the scope of the problem. Feedback and date are also unnecessary."
   ]
  },
  {
   "cell_type": "markdown",
   "metadata": {},
   "source": [
    "Second, the distribution of ratings in dataset is way off. 25-th percentile already has value of 4, and 50-th - of 5. If there is enough data for different ratings, it would seem reasonable to construct a subset with better distribution."
   ]
  },
  {
   "cell_type": "code",
   "execution_count": 5,
   "metadata": {},
   "outputs": [
    {
     "name": "stdout",
     "output_type": "stream",
     "text": [
      "5    2286\n",
      "4     455\n",
      "1     161\n",
      "3     152\n",
      "2      96\n",
      "Name: rating, dtype: int64\n"
     ]
    }
   ],
   "source": [
    "#omitting unnecessary columns\n",
    "cdf = df[['rating', 'verified_reviews']]\n",
    "\n",
    "print(cdf['rating'].value_counts())"
   ]
  },
  {
   "cell_type": "code",
   "execution_count": 6,
   "metadata": {},
   "outputs": [
    {
     "data": {
      "text/plain": [
       "count    1164.000000\n",
       "mean        3.547251\n",
       "std         1.326495\n",
       "min         1.000000\n",
       "25%         3.000000\n",
       "50%         4.000000\n",
       "75%         5.000000\n",
       "max         5.000000\n",
       "Name: rating, dtype: float64"
      ]
     },
     "execution_count": 6,
     "metadata": {},
     "output_type": "execute_result"
    }
   ],
   "source": [
    "cdf = pd.concat([cdf[cdf['rating'] < 5], cdf[cdf['rating'] == 5].sample(frac=1).iloc[:300]])\n",
    "cdf['rating'].describe()"
   ]
  },
  {
   "cell_type": "markdown",
   "metadata": {},
   "source": [
    "Perfect dataset supposed to have equal amount of items with every rating, and their mean should be 3.0. Constructing such dataset would shrink dataset to 480 entries. Instead we can have dataset with 1164 entries with a mean of 3.5. That could create a shift in models predictions, but more data will help prevent overfitting and help model generalize data better."
   ]
  },
  {
   "cell_type": "code",
   "execution_count": 7,
   "metadata": {},
   "outputs": [
    {
     "data": {
      "text/plain": [
       "<matplotlib.axes._subplots.AxesSubplot at 0xfddec07470>"
      ]
     },
     "execution_count": 7,
     "metadata": {},
     "output_type": "execute_result"
    },
    {
     "data": {
      "image/png": "[encoded data removed]",
      "text/plain": [
       "<matplotlib.figure.Figure at 0xfddebb7a58>"
      ]
     },
     "metadata": {
      "needs_background": "light"
     },
     "output_type": "display_data"
    }
   ],
   "source": [
    "cdf['rating'].hist(bins=5)"
   ]
  },
  {
   "cell_type": "markdown",
   "metadata": {},
   "source": [
    "# Assessing word vectors data"
   ]
  },
  {
   "cell_type": "markdown",
   "metadata": {},
   "source": [
    "One of the most precise method when analysing natural language is to use word2vec approach. Let's check how many different words there is and create a full set of all used words in review. That would be useful later when chosing pre-trained word vectors."
   ]
  },
  {
   "cell_type": "code",
   "execution_count": 8,
   "metadata": {},
   "outputs": [],
   "source": [
    "text_body = ''\n",
    "for row in cdf.iterrows():\n",
    "    text_body += row[1]['verified_reviews'] + ' '\n",
    "    \n",
    "cleaned_text_body = re.sub('[^a-zA-Z]', ' ', text_body)\n",
    "word_list = nltk.tokenize.word_tokenize(cleaned_text_body.lower())\n",
    "word_set = set(word_list)"
   ]
  },
  {
   "cell_type": "code",
   "execution_count": 9,
   "metadata": {},
   "outputs": [
    {
     "data": {
      "text/plain": [
       "2954"
      ]
     },
     "execution_count": 9,
     "metadata": {},
     "output_type": "execute_result"
    }
   ],
   "source": [
    "len(word_set)"
   ]
  },
  {
   "cell_type": "markdown",
   "metadata": {},
   "source": [
    "Now that we got complete set of words used in dataset we can estimate how good or bad a certain vectorization of words could serve."
   ]
  },
  {
   "cell_type": "code",
   "execution_count": 10,
   "metadata": {},
   "outputs": [],
   "source": [
    "embeddings = {}\n",
    "f = open('glove.6B/glove.6B.100d.txt', 'r', encoding='utf-8')\n",
    "for line in f:\n",
    "    values = line.split()\n",
    "    word = values[0]\n",
    "    vector = np.asarray(values[1:], dtype='float32')\n",
    "    embeddings[word] = vector\n",
    "f.close()"
   ]
  },
  {
   "cell_type": "code",
   "execution_count": 11,
   "metadata": {},
   "outputs": [
    {
     "name": "stdout",
     "output_type": "stream",
     "text": [
      "97.05484089370346 percents of words in reviews are covered in embeddings\n"
     ]
    }
   ],
   "source": [
    "def assess_embeddings(set_of_words):\n",
    "    c = 0\n",
    "    missing_embeddings = []\n",
    "    for word in set_of_words:\n",
    "        if word in embeddings:\n",
    "            c+=1\n",
    "        else:\n",
    "            missing_embeddings.append(word)\n",
    "\n",
    "    print(c/len(set_of_words)*100, 'percents of words in reviews are covered in embeddings')\n",
    "    return missing_embeddings\n",
    "\n",
    "missing_embeddings = assess_embeddings(word_set)    "
   ]
  },
  {
   "cell_type": "code",
   "execution_count": 12,
   "metadata": {},
   "outputs": [
    {
     "name": "stdout",
     "output_type": "stream",
     "text": [
      "['accessable', 'accesss', 'alexas', 'amozon', 'anypod', 'audioapple', 'becausse', 'bettter', 'buld', 'chachki', 'chromecast', 'comeletely', 'compacity', 'complacated', 'controll', 'cordthank', 'cortna', 'creapy', 'culas', 'defuser', 'deviceoverall', 'dhiw', 'electeonically', 'emoji', 'escencia', 'eveyday', 'exho', 'feee', 'firestick', 'firmare', 'glitching', 'hadn', 'hahaawesome', 'helful', 'homescreen', 'hubbed', 'huele', 'imhave', 'imrproved', 'indundated', 'intelagence', 'ipdates', 'isue', 'kwikset', 'lifht', 'lleg', 'looooooove', 'lve', 'madlibs', 'majes', 'minorly', 'nois', 'ontrac', 'overa', 'perdi', 'philipshue', 'pleasedsimple', 'powercord', 'practicalthan', 'primeday', 'promp', 'qualty', 'qued', 'rcieved', 'reccomend', 'receivded', 'refurb', 'returnef', 'ryp', 'screamig', 'screenless', 'seprately', 'settins', 'sinqued', 'sirrius', 'smartbon', 'smartthing', 'smartthings', 'soluci', 'soundtouch', 'sqyxtw', 'subscriptiondoes', 'tulos', 'udefulness', 'usde', 'viceo', 'wellfour']\n"
     ]
    }
   ],
   "source": [
    "print(sorted(missing_embeddings))"
   ]
  },
  {
   "cell_type": "markdown",
   "metadata": {},
   "source": [
    "Embeddings successfully cover almost all word set, except for some typos. Since typos are only ~3% of words, we can ignore the problem unless we would want to improve accuracy."
   ]
  },
  {
   "cell_type": "markdown",
   "metadata": {},
   "source": [
    "We will use the Keras library to solve the problem"
   ]
  },
  {
   "cell_type": "code",
   "execution_count": 13,
   "metadata": {},
   "outputs": [
    {
     "name": "stderr",
     "output_type": "stream",
     "text": [
      "Using TensorFlow backend.\n"
     ]
    }
   ],
   "source": [
    "import keras"
   ]
  },
  {
   "cell_type": "markdown",
   "metadata": {},
   "source": [
    "# Preparing data"
   ]
  },
  {
   "cell_type": "code",
   "execution_count": 14,
   "metadata": {},
   "outputs": [],
   "source": [
    "from keras.preprocessing.text import Tokenizer\n",
    "from keras.preprocessing.sequence import pad_sequences"
   ]
  },
  {
   "cell_type": "code",
   "execution_count": 15,
   "metadata": {},
   "outputs": [
    {
     "name": "stdout",
     "output_type": "stream",
     "text": [
      "Words in word_index: 2955\n"
     ]
    }
   ],
   "source": [
    "tokenizer = Tokenizer(num_words=len(word_set))\n",
    "tokenizer.fit_on_texts([cleaned_text_body])\n",
    "print('Words in word_index:', len(tokenizer.word_index))"
   ]
  },
  {
   "cell_type": "markdown",
   "metadata": {},
   "source": [
    "As we could expect, keras' tokenizer uses an algorithm that is somewhat different from the one we chose earlier. However, the amount of words in created word_index is bigger only by 1. Generally, it is better to use already made solutions than to create something from scratch. Let's quickly assess this word_index and make a decision whether it is reasonable to use it."
   ]
  },
  {
   "cell_type": "code",
   "execution_count": 16,
   "metadata": {},
   "outputs": [
    {
     "name": "stdout",
     "output_type": "stream",
     "text": [
      "97.05583756345177 percents of words in reviews are covered in embeddings\n"
     ]
    }
   ],
   "source": [
    "_ = assess_embeddings(set([kvp for kvp in tokenizer.word_index]))"
   ]
  },
  {
   "cell_type": "markdown",
   "metadata": {},
   "source": [
    "The results are just as good, so the tokenizer's word_index stays."
   ]
  },
  {
   "cell_type": "code",
   "execution_count": 17,
   "metadata": {},
   "outputs": [],
   "source": [
    "cdf['cleaned_text'] = cdf['verified_reviews'].apply(lambda x: re.sub('[^a-zA-Z]', ' ', x))\n",
    "cdf['cleaned_text'] = cdf['cleaned_text'].apply(lambda x: re.sub(' +',' ', x)) #remove consecutive spacing"
   ]
  },
  {
   "cell_type": "code",
   "execution_count": 18,
   "metadata": {},
   "outputs": [
    {
     "data": {
      "text/plain": [
       "2     [214, 232, 185, 6, 1781, 20, 28, 261, 6, 441, ...\n",
       "6     [134, 115, 6, 1262, 2, 262, 35, 156, 11, 108, ...\n",
       "19    [2, 515, 1, 294, 15, 13, 7, 1, 143, 12, 1266, ...\n",
       "22    [18, 75, 70, 4, 68, 33, 9, 6, 241, 345, 63, 51...\n",
       "24    [2, 113, 6, 236, 242, 9, 1, 234, 2, 26, 597, 1...\n",
       "28    [141, 194, 3, 60, 16, 5, 57, 178, 3, 139, 214,...\n",
       "31                                           [2, 24, 4]\n",
       "33    [1, 195, 36, 179, 56, 9, 186, 31, 200, 5, 158,...\n",
       "37                        [41, 7, 62, 72, 471, 275, 15]\n",
       "42                                    [31, 118, 31, 56]\n",
       "Name: sequences, dtype: object"
      ]
     },
     "execution_count": 18,
     "metadata": {},
     "output_type": "execute_result"
    }
   ],
   "source": [
    "cdf['sequences'] = cdf['cleaned_text'].apply(lambda x: tokenizer.texts_to_sequences([x])[0])\n",
    "cdf['sequences'].head(10)"
   ]
  },
  {
   "cell_type": "code",
   "execution_count": 19,
   "metadata": {},
   "outputs": [],
   "source": [
    "# Need to know max_sequence_length to pad other sequences\n",
    "max_sequence_length = cdf['sequences'].apply(lambda x: len(x)).max()\n",
    "cdf['padded_sequences'] = cdf['sequences'].apply(lambda x: pad_sequences([x], max_sequence_length)[0])"
   ]
  },
  {
   "cell_type": "code",
   "execution_count": 20,
   "metadata": {},
   "outputs": [
    {
     "name": "stdout",
     "output_type": "stream",
     "text": [
      "[   0    0    0    0    0    0    0    0    0    0    0    0    0    0    0\n",
      "    0    0    0    0    0    0    0    0    0    0    0    0    0    0    0\n",
      "    0    0    0    0    0    0    0    0    0    0    0    0    0    0    0\n",
      "    0    0    0    0    0    0    0    0    0    0    0    0    0    0    0\n",
      "    0    0    0    0    0    0    0    0    0    0    0    0    0    0    0\n",
      "    0    0    0    0    0    0    0    0    0    0    0    0    0    0    0\n",
      "    0    0    0    0    0    0    0    0    0    0    0    0    0    0    0\n",
      "    0    0    0    0    0    0    0    0    0    0    0    0    0    0    0\n",
      "    0    0    0    0    0    0    0    0    0    0    0    0    0    0    0\n",
      "    0    0    0    0    0    0    0    0    0    0    0    0    0    0    0\n",
      "    0    0    0    0    0    0    0    0    0    0    0    0    0    0    0\n",
      "    0    0    0    0    0    0    0    0    0    0    0    0    0    0    0\n",
      "    0    0    0    0    0    0    0    0    0    0    0    0    0    0    0\n",
      "    0    0    0    0    0    0    0    0    0    0    0    0    0    0    0\n",
      "    0    0    0    0    0    0    0    0    0    0    0    0    0    0    0\n",
      "    0    0    0    0    0    0    0    0    0    0    0    0    0    0    0\n",
      "    0    0    0    0    0    0    0    0    0    0    0    0    0    0    0\n",
      "    0    0    0    0    0    0    0    0    0    0    0    0    0    0    0\n",
      "    0    0    0    0    0    0    0    0    0    0    0    0    0    0    0\n",
      "    0    0    0    0    0    0    0    0    0    0    0    0    0    0    0\n",
      "    0    0    0    0    0    0    0    0    0    0    0    0    0    0    0\n",
      "    0    0    0    0    0    0    0    0    0    0    0    0    0    0    0\n",
      "    0    0  214  232  185    6 1781   20   28  261    6  441  468   12   21\n",
      "  233   20  113    4  408    5  344    1  143   23   20    2   24  186  144\n",
      "    3  124  160   22    5   90  232  291   66   78]\n"
     ]
    }
   ],
   "source": [
    "print(cdf['padded_sequences'][2])"
   ]
  },
  {
   "cell_type": "markdown",
   "metadata": {},
   "source": [
    "Now split into train, validation and test subsets"
   ]
  },
  {
   "cell_type": "code",
   "execution_count": 21,
   "metadata": {},
   "outputs": [
    {
     "name": "stdout",
     "output_type": "stream",
     "text": [
      "(931, 5) (116, 5) (117, 5)\n"
     ]
    }
   ],
   "source": [
    "train = cdf.sample(frac=0.8)\n",
    "test_and_validation = cdf.loc[~cdf.index.isin(train.index)]\n",
    "validation = test_and_validation.sample(frac=0.5)\n",
    "test = test_and_validation.loc[~test_and_validation.index.isin(validation.index)]\n",
    "\n",
    "print(train.shape, validation.shape, test.shape)"
   ]
  },
  {
   "cell_type": "code",
   "execution_count": 39,
   "metadata": {},
   "outputs": [],
   "source": [
    "def get_arrayed_data(df_set):\n",
    "    setX = np.stack(df_set['padded_sequences'].values, axis=0)\n",
    "    setY = pd.get_dummies(df_set['rating']).values #using one-hot encoding\n",
    "    \n",
    "    return (setX, setY)\n",
    "\n",
    "trainX, trainY = get_arrayed_data(train)\n",
    "validationX, validationY = get_arrayed_data(validation)\n",
    "testX, testY = get_arrayed_data(test)"
   ]
  },
  {
   "cell_type": "markdown",
   "metadata": {},
   "source": [
    "# Building the model"
   ]
  },
  {
   "cell_type": "code",
   "execution_count": 23,
   "metadata": {},
   "outputs": [],
   "source": [
    "from keras.layers import Embedding"
   ]
  },
  {
   "cell_type": "code",
   "execution_count": 24,
   "metadata": {},
   "outputs": [],
   "source": [
    "embedding_matrix = np.zeros((len(tokenizer.word_index) + 1, 100))\n",
    "for word, i in tokenizer.word_index.items():\n",
    "    # words that are not in pretrained embedding will be zero vectors.\n",
    "    if word in embeddings:\n",
    "        embedding_matrix[i] = embeddings[word]"
   ]
  },
  {
   "cell_type": "code",
   "execution_count": 69,
   "metadata": {},
   "outputs": [],
   "source": [
    "embedding_layer = Embedding(len(tokenizer.word_index) + 1, 100,\n",
    "                            weights=[embedding_matrix],\n",
    "                            input_length=max_sequence_length,\n",
    "                            trainable=False)"
   ]
  },
  {
   "cell_type": "code",
   "execution_count": 135,
   "metadata": {},
   "outputs": [],
   "source": [
    "from keras.models import Sequential\n",
    "from keras.layers import Dense, Input, LSTM, Flatten, Dropout"
   ]
  },
  {
   "cell_type": "code",
   "execution_count": 70,
   "metadata": {},
   "outputs": [],
   "source": [
    "def simple_reccurent_model(input_shape, output_shape):\n",
    "    model = Sequential()\n",
    "    model.add(embedding_layer)\n",
    "    model.add(LSTM(64, dropout=0.2))\n",
    "    #model.add(Flatten())\n",
    "    model.add(Dense(64, activation='relu'))\n",
    "    model.add(Dense(output_shape, activation='softmax'))\n",
    "    return model"
   ]
  },
  {
   "cell_type": "code",
   "execution_count": 74,
   "metadata": {},
   "outputs": [],
   "source": [
    "model = simple_reccurent_model(trainX.shape[1], trainY.shape[1])\n",
    "model.compile(loss='categorical_crossentropy', optimizer='adam',metrics=['accuracy'])"
   ]
  },
  {
   "cell_type": "code",
   "execution_count": 75,
   "metadata": {},
   "outputs": [
    {
     "name": "stdout",
     "output_type": "stream",
     "text": [
      "_________________________________________________________________\n",
      "Layer (type)                 Output Shape              Param #   \n",
      "=================================================================\n",
      "embedding_3 (Embedding)      (None, 370, 100)          295600    \n",
      "_________________________________________________________________\n",
      "lstm_12 (LSTM)               (None, 64)                42240     \n",
      "_________________________________________________________________\n",
      "dense_12 (Dense)             (None, 64)                4160      \n",
      "_________________________________________________________________\n",
      "dense_13 (Dense)             (None, 5)                 325       \n",
      "=================================================================\n",
      "Total params: 342,325\n",
      "Trainable params: 46,725\n",
      "Non-trainable params: 295,600\n",
      "_________________________________________________________________\n"
     ]
    }
   ],
   "source": [
    "model.summary()"
   ]
  },
  {
   "cell_type": "code",
   "execution_count": 77,
   "metadata": {},
   "outputs": [
    {
     "name": "stdout",
     "output_type": "stream",
     "text": [
      "Epoch 1/100\n",
      "931/931 [==============================] - 5s - loss: 1.1755 - acc: 0.5059     \n",
      "Epoch 2/100\n",
      "931/931 [==============================] - 5s - loss: 1.1378 - acc: 0.5209     \n",
      "Epoch 3/100\n",
      "931/931 [==============================] - 5s - loss: 1.0949 - acc: 0.5231     \n",
      "Epoch 4/100\n",
      "931/931 [==============================] - 5s - loss: 1.0747 - acc: 0.5478     \n",
      "Epoch 5/100\n",
      "931/931 [==============================] - 5s - loss: 1.0723 - acc: 0.5403     \n",
      "Epoch 6/100\n",
      "931/931 [==============================] - 5s - loss: 1.0432 - acc: 0.5736     \n",
      "Epoch 7/100\n",
      "931/931 [==============================] - 5s - loss: 1.0022 - acc: 0.5789     \n",
      "Epoch 8/100\n",
      "931/931 [==============================] - 5s - loss: 0.9854 - acc: 0.6026     \n",
      "Epoch 9/100\n",
      "931/931 [==============================] - 5s - loss: 0.9538 - acc: 0.6165     \n",
      "Epoch 10/100\n",
      "931/931 [==============================] - 5s - loss: 0.9474 - acc: 0.6208     \n",
      "Epoch 11/100\n",
      "931/931 [==============================] - 5s - loss: 0.8756 - acc: 0.6552     \n",
      "Epoch 12/100\n",
      "931/931 [==============================] - 5s - loss: 0.8778 - acc: 0.6402     \n",
      "Epoch 13/100\n",
      "931/931 [==============================] - 5s - loss: 0.8383 - acc: 0.6788     \n",
      "Epoch 14/100\n",
      "931/931 [==============================] - 5s - loss: 0.8202 - acc: 0.6917     \n",
      "Epoch 15/100\n",
      "931/931 [==============================] - 5s - loss: 0.7844 - acc: 0.6864     \n",
      "Epoch 16/100\n",
      "931/931 [==============================] - 5s - loss: 0.7341 - acc: 0.7121     \n",
      "Epoch 17/100\n",
      "931/931 [==============================] - 5s - loss: 0.7313 - acc: 0.7282     \n",
      "Epoch 18/100\n",
      "931/931 [==============================] - 5s - loss: 0.7002 - acc: 0.7250     \n",
      "Epoch 19/100\n",
      "931/931 [==============================] - 5s - loss: 0.6807 - acc: 0.7336     \n",
      "Epoch 20/100\n",
      "931/931 [==============================] - 5s - loss: 0.6434 - acc: 0.7605     \n",
      "Epoch 21/100\n",
      "931/931 [==============================] - 5s - loss: 0.6275 - acc: 0.7626     \n",
      "Epoch 22/100\n",
      "931/931 [==============================] - 5s - loss: 0.6018 - acc: 0.7787     \n",
      "Epoch 23/100\n",
      "931/931 [==============================] - 5s - loss: 0.5761 - acc: 0.7959     \n",
      "Epoch 24/100\n",
      "931/931 [==============================] - 5s - loss: 0.5210 - acc: 0.8206     \n",
      "Epoch 25/100\n",
      "931/931 [==============================] - 5s - loss: 0.5234 - acc: 0.8088     \n",
      "Epoch 26/100\n",
      "931/931 [==============================] - 5s - loss: 0.4977 - acc: 0.8249     \n",
      "Epoch 27/100\n",
      "931/931 [==============================] - 5s - loss: 0.4585 - acc: 0.8475     \n",
      "Epoch 28/100\n",
      "931/931 [==============================] - 5s - loss: 0.4600 - acc: 0.8367     \n",
      "Epoch 29/100\n",
      "931/931 [==============================] - 5s - loss: 0.4320 - acc: 0.8496     \n",
      "Epoch 30/100\n",
      "931/931 [==============================] - 5s - loss: 0.4055 - acc: 0.8518     \n",
      "Epoch 31/100\n",
      "931/931 [==============================] - 5s - loss: 0.4587 - acc: 0.8303     \n",
      "Epoch 32/100\n",
      "931/931 [==============================] - 5s - loss: 0.3978 - acc: 0.8593     \n",
      "Epoch 33/100\n",
      "931/931 [==============================] - 5s - loss: 0.3528 - acc: 0.8722     \n",
      "Epoch 34/100\n",
      "931/931 [==============================] - 5s - loss: 0.3700 - acc: 0.8625     \n",
      "Epoch 35/100\n",
      "931/931 [==============================] - 5s - loss: 0.3372 - acc: 0.8851     \n",
      "Epoch 36/100\n",
      "931/931 [==============================] - 5s - loss: 0.3263 - acc: 0.8808     \n",
      "Epoch 37/100\n",
      "931/931 [==============================] - 5s - loss: 0.3239 - acc: 0.8872     \n",
      "Epoch 38/100\n",
      "931/931 [==============================] - 5s - loss: 0.3029 - acc: 0.8958     \n",
      "Epoch 39/100\n",
      "931/931 [==============================] - 5s - loss: 0.2750 - acc: 0.8958     \n",
      "Epoch 40/100\n",
      "931/931 [==============================] - 5s - loss: 0.2817 - acc: 0.9044     \n",
      "Epoch 41/100\n",
      "931/931 [==============================] - 5s - loss: 0.2458 - acc: 0.9141     \n",
      "Epoch 42/100\n",
      "931/931 [==============================] - 5s - loss: 0.2490 - acc: 0.9119     \n",
      "Epoch 43/100\n",
      "931/931 [==============================] - 5s - loss: 0.2274 - acc: 0.9334     \n",
      "Epoch 44/100\n",
      "931/931 [==============================] - 5s - loss: 0.2318 - acc: 0.9194     \n",
      "Epoch 45/100\n",
      "931/931 [==============================] - 5s - loss: 0.2136 - acc: 0.9356     \n",
      "Epoch 46/100\n",
      "931/931 [==============================] - 5s - loss: 0.2174 - acc: 0.9248     \n",
      "Epoch 47/100\n",
      "931/931 [==============================] - 5s - loss: 0.1952 - acc: 0.9323     \n",
      "Epoch 48/100\n",
      "931/931 [==============================] - 5s - loss: 0.2108 - acc: 0.9270     \n",
      "Epoch 49/100\n",
      "931/931 [==============================] - 5s - loss: 0.1750 - acc: 0.9431     \n",
      "Epoch 50/100\n",
      "931/931 [==============================] - 5s - loss: 0.1918 - acc: 0.9259     \n",
      "Epoch 51/100\n",
      "931/931 [==============================] - 5s - loss: 0.1978 - acc: 0.9323     \n",
      "Epoch 52/100\n",
      "931/931 [==============================] - 5s - loss: 0.1581 - acc: 0.9517     \n",
      "Epoch 53/100\n",
      "931/931 [==============================] - 5s - loss: 0.1675 - acc: 0.9463     \n",
      "Epoch 54/100\n",
      "931/931 [==============================] - 5s - loss: 0.1811 - acc: 0.9323     \n",
      "Epoch 55/100\n",
      "931/931 [==============================] - 5s - loss: 0.1642 - acc: 0.9431     \n",
      "Epoch 56/100\n",
      "931/931 [==============================] - 5s - loss: 0.1593 - acc: 0.9484     \n",
      "Epoch 57/100\n",
      "931/931 [==============================] - 5s - loss: 0.1648 - acc: 0.9463     \n",
      "Epoch 58/100\n",
      "931/931 [==============================] - 5s - loss: 0.1578 - acc: 0.9420     \n",
      "Epoch 59/100\n",
      "931/931 [==============================] - 5s - loss: 0.1373 - acc: 0.9581     \n",
      "Epoch 60/100\n",
      "931/931 [==============================] - 5s - loss: 0.1519 - acc: 0.9495     \n",
      "Epoch 61/100\n",
      "931/931 [==============================] - 5s - loss: 0.1495 - acc: 0.9484     \n",
      "Epoch 62/100\n",
      "931/931 [==============================] - 5s - loss: 0.1723 - acc: 0.9356     \n",
      "Epoch 63/100\n",
      "931/931 [==============================] - 5s - loss: 0.1466 - acc: 0.9495     \n",
      "Epoch 64/100\n",
      "931/931 [==============================] - 5s - loss: 0.1354 - acc: 0.9484     \n",
      "Epoch 65/100\n",
      "931/931 [==============================] - 5s - loss: 0.1379 - acc: 0.9560     \n",
      "Epoch 66/100\n",
      "931/931 [==============================] - 5s - loss: 0.1558 - acc: 0.9420     \n",
      "Epoch 67/100\n",
      "931/931 [==============================] - 5s - loss: 0.1336 - acc: 0.9517     \n",
      "Epoch 68/100\n",
      "931/931 [==============================] - 5s - loss: 0.1337 - acc: 0.9517     \n",
      "Epoch 69/100\n",
      "931/931 [==============================] - 5s - loss: 0.1321 - acc: 0.9495     \n",
      "Epoch 70/100\n",
      "931/931 [==============================] - 5s - loss: 0.1193 - acc: 0.9570     \n",
      "Epoch 71/100\n",
      "931/931 [==============================] - 5s - loss: 0.1163 - acc: 0.9570     \n",
      "Epoch 72/100\n",
      "931/931 [==============================] - 5s - loss: 0.1175 - acc: 0.9581     \n",
      "Epoch 73/100\n",
      "931/931 [==============================] - 5s - loss: 0.1243 - acc: 0.9549     \n",
      "Epoch 74/100\n",
      "931/931 [==============================] - 5s - loss: 0.1180 - acc: 0.9570     \n",
      "Epoch 75/100\n",
      "931/931 [==============================] - 5s - loss: 0.1366 - acc: 0.9517     \n",
      "Epoch 76/100\n",
      "931/931 [==============================] - 5s - loss: 0.1363 - acc: 0.9441     \n",
      "Epoch 77/100\n",
      "931/931 [==============================] - 5s - loss: 0.1215 - acc: 0.9581     \n",
      "Epoch 78/100\n",
      "931/931 [==============================] - 5s - loss: 0.1173 - acc: 0.9527     \n",
      "Epoch 79/100\n",
      "931/931 [==============================] - 5s - loss: 0.1222 - acc: 0.9570     \n",
      "Epoch 80/100\n",
      "931/931 [==============================] - 5s - loss: 0.1386 - acc: 0.9506     \n",
      "Epoch 81/100\n",
      "931/931 [==============================] - 5s - loss: 0.1336 - acc: 0.9517     \n",
      "Epoch 82/100\n",
      "931/931 [==============================] - 5s - loss: 0.1223 - acc: 0.9560     \n",
      "Epoch 83/100\n",
      "931/931 [==============================] - 5s - loss: 0.1241 - acc: 0.9570     \n",
      "Epoch 84/100\n",
      "931/931 [==============================] - 5s - loss: 0.1142 - acc: 0.9624     \n",
      "Epoch 85/100\n",
      "931/931 [==============================] - 5s - loss: 0.1043 - acc: 0.9603     \n",
      "Epoch 86/100\n",
      "931/931 [==============================] - 5s - loss: 0.1015 - acc: 0.9613     \n",
      "Epoch 87/100\n",
      "931/931 [==============================] - 5s - loss: 0.1113 - acc: 0.9592     \n",
      "Epoch 88/100\n",
      "931/931 [==============================] - 5s - loss: 0.1204 - acc: 0.9560     \n",
      "Epoch 89/100\n"
     ]
    },
    {
     "name": "stdout",
     "output_type": "stream",
     "text": [
      "931/931 [==============================] - 5s - loss: 0.1090 - acc: 0.9549     \n",
      "Epoch 90/100\n",
      "931/931 [==============================] - 5s - loss: 0.1096 - acc: 0.9560     \n",
      "Epoch 91/100\n",
      "931/931 [==============================] - 5s - loss: 0.1088 - acc: 0.9581     \n",
      "Epoch 92/100\n",
      "931/931 [==============================] - 5s - loss: 0.1072 - acc: 0.9603     \n",
      "Epoch 93/100\n",
      "931/931 [==============================] - 5s - loss: 0.1108 - acc: 0.9527     \n",
      "Epoch 94/100\n",
      "931/931 [==============================] - 5s - loss: 0.1155 - acc: 0.9549     \n",
      "Epoch 95/100\n",
      "931/931 [==============================] - 5s - loss: 0.1059 - acc: 0.9592     \n",
      "Epoch 96/100\n",
      "931/931 [==============================] - 5s - loss: 0.0990 - acc: 0.9613     \n",
      "Epoch 97/100\n",
      "931/931 [==============================] - 5s - loss: 0.1076 - acc: 0.9560     \n",
      "Epoch 98/100\n",
      "931/931 [==============================] - 5s - loss: 0.1072 - acc: 0.9538     \n",
      "Epoch 99/100\n",
      "931/931 [==============================] - 5s - loss: 0.1046 - acc: 0.9603     \n",
      "Epoch 100/100\n",
      "931/931 [==============================] - 5s - loss: 0.1042 - acc: 0.9613     \n"
     ]
    },
    {
     "data": {
      "text/plain": [
       "<keras.callbacks.History at 0xfd83277f60>"
      ]
     },
     "execution_count": 77,
     "metadata": {},
     "output_type": "execute_result"
    }
   ],
   "source": [
    "model.fit(trainX, trainY, batch_size=64, epochs=100)"
   ]
  },
  {
   "cell_type": "markdown",
   "metadata": {},
   "source": [
    "Let's evaluate this simple model on validation set:"
   ]
  },
  {
   "cell_type": "code",
   "execution_count": 79,
   "metadata": {},
   "outputs": [
    {
     "name": "stdout",
     "output_type": "stream",
     "text": [
      "116/116 [==============================] - 0s     \n",
      "0.586206894496\n"
     ]
    }
   ],
   "source": [
    "score, accuracy = model.evaluate(validationX, validationY, batch_size=64)\n",
    "print(accuracy)"
   ]
  },
  {
   "cell_type": "markdown",
   "metadata": {},
   "source": [
    "### 58% of accuracy\n",
    "It is much better than random guessing, though. Let's check the failed predictions manually."
   ]
  },
  {
   "cell_type": "code",
   "execution_count": 119,
   "metadata": {},
   "outputs": [],
   "source": [
    "reverse_word_map = dict(map(reversed, tokenizer.word_index.items()))"
   ]
  },
  {
   "cell_type": "code",
   "execution_count": 134,
   "metadata": {},
   "outputs": [
    {
     "name": "stdout",
     "output_type": "stream",
     "text": [
      "Validation 1\n",
      "Predicted review: 3 , actual review: 1\n",
      "the alexa is awesome but when i rcieved the light buld i did not know that u need another adapter to have the light buld to work i was not aware of that disappointed\n",
      "\n",
      "Validation 7\n",
      "Predicted review: 4 , actual review: 5\n",
      "love it\n",
      "\n",
      "Validation 13\n",
      "Predicted review: 1 , actual review: 4\n",
      "\n",
      "\n",
      "Validation 14\n",
      "Predicted review: 5 , actual review: 4\n",
      "the ase of participating with echo\n",
      "\n",
      "Validation 15\n",
      "Predicted review: 4 , actual review: 5\n",
      "it works perfect\n",
      "\n",
      "Validation 18\n",
      "Predicted review: 1 , actual review: 3\n",
      "\n",
      "\n",
      "Validation 19\n",
      "Predicted review: 2 , actual review: 1\n",
      "i have been through shows now and all of them have been broken it has been anything from screens that lose lines of resolution to timers and reminders going off an hour late or reminders that trigger when trying to set other reminders i don t have these issues on my dot or my echo just on the show it would be nice if amazon could get there act together and actually fix this thing\n",
      "\n",
      "Validation 24\n",
      "Predicted review: 3 , actual review: 2\n",
      "thought it would be more powerful and have a lot more functionality not much better than the echo dot not worth the money\n",
      "\n",
      "Validation 25\n",
      "Predicted review: 3 , actual review: 1\n",
      "i bought this product hoping that alexa would be pretty well developed and far enough along therefore expecting her to be responsive this piece of crap doesnt even know how to respond to a question that amazon themselves told me to ask her echo buttons manual see step the device has potential given it has a big screen decent sound but for bucks i would never reccomend it even for the i spent i feel like i got shorted oh and lastly the device is pretty useless without a prime membership i linked my personal account to it and the thing was literally a decorated bluetooth speaker i went on the family account this one and got it to work minimal oh and even with our prime membership you have to have a music pass or something that s an extra a month leaving this item a subscription nightmare and a overpriced decorated bluetooth speaker in my eyes i would give it zero stars if i could\n",
      "\n",
      "Validation 28\n",
      "Predicted review: 4 , actual review: 3\n",
      "i was contacted by people in india were they suppose to charge me it was very hard to understand their instructions they did have control of my computer and network i also bought a cloud cam but do not know how to make it work with alexa\n",
      "\n",
      "Validation 30\n",
      "Predicted review: 1 , actual review: 3\n",
      "\n",
      "\n",
      "Validation 31\n",
      "Predicted review: 3 , actual review: 4\n",
      "big step up from the dot dropped one star due to consistent delay in bringing up ring pro video though looks great once the feed is displayed\n",
      "\n",
      "Validation 34\n",
      "Predicted review: 1 , actual review: 4\n",
      "alexa was able to call my phone when i couldn t find it and also turned on and off the light when commanded then i came home a day later and it wouldn t turn on the light but would shut it off then she said i had no devices couldn t find my phone now working again we will see love the selection of music\n",
      "\n",
      "Validation 37\n",
      "Predicted review: 3 , actual review: 4\n",
      "it isn t bad for what it is have issues with it actually playing what i want getting it use iheartradio properly by playing the station i want is a challenge but it s not bad for the sale price i paid\n",
      "\n",
      "Validation 38\n",
      "Predicted review: 4 , actual review: 5\n",
      "have these in almost every room i really have enjoyed them works perfectly\n",
      "\n",
      "Validation 39\n",
      "Predicted review: 5 , actual review: 3\n",
      "i think the dot listens better than spot\n",
      "\n",
      "Validation 41\n",
      "Predicted review: 4 , actual review: 2\n",
      "it is much more difficult to use than the chromecast\n",
      "\n",
      "Validation 42\n",
      "Predicted review: 3 , actual review: 5\n",
      "access to apps\n",
      "\n",
      "Validation 44\n",
      "Predicted review: 2 , actual review: 1\n",
      "disconnects often\n",
      "\n",
      "Validation 45\n",
      "Predicted review: 3 , actual review: 2\n",
      "i m still unable to connect any devices although it says it has a built in hub so bought a bridge to connect the devices thinking that everything would sync and my other devices are still not discovered via my echo plus and i was looking forward to this feature being able to play music check the weather etc is fine\n",
      "\n",
      "Validation 52\n",
      "Predicted review: 5 , actual review: 3\n",
      "still need more ai built into it to interact better it needs to continue the conversation sometimes if the finding answer needs to be right you can t keep stop alexa and ask again and again also it should be able to access the wikipedia dictionary in many areas with better and fast access needs to hear us better also we should be able to name it on our own instead calling alexa or echo price can be reduced a bit value based and updates should be auto and daily to improve it connectivity to other home equipment can be imrproved as well good product with good sound quality but needs more ai built in\n",
      "\n",
      "Validation 56\n",
      "Predicted review: 4 , actual review: 5\n",
      "this is the rd unit i purchased all the way from gen to the plus the only reason i purchased this is because it works so well and i wanted it in other rooms as well all my switches work great and i have had not issues i the past i did have some ghost commands when alexa would answer a question when no one asked her to but i think some recent ipdates may have resolved this it just keeps improving over time not with call capabilities i work with adapting smart homes and this is by far the cheapest best way so far can t wait to see what they come up with next\n",
      "\n",
      "Validation 57\n",
      "Predicted review: 5 , actual review: 1\n",
      "it don t show nothing\n",
      "\n",
      "Validation 58\n",
      "Predicted review: 1 , actual review: 2\n",
      "when you think about it this really doesn t do much play music answer stupid questions finally it was able to hook up to thermostat i can see why price is dropping like a rock\n",
      "\n",
      "Validation 59\n",
      "Predicted review: 4 , actual review: 2\n",
      "i switched to google the amazon helper is more for shopping and google is the tasks assistant\n",
      "\n",
      "Validation 60\n",
      "Predicted review: 4 , actual review: 5\n",
      "i enjoy it still discovering new uses\n",
      "\n",
      "Validation 65\n",
      "Predicted review: 4 , actual review: 1\n",
      "not good at all\n",
      "\n",
      "Validation 68\n",
      "Predicted review: 2 , actual review: 1\n",
      "this product is a complete waste of money when you ask alexa a question she either doesn t know the answer gives you the wrong answer or finds information off of wikipedia\n",
      "\n",
      "Validation 69\n",
      "Predicted review: 3 , actual review: 5\n",
      "have alexa throughout the house the future has arrived\n",
      "\n",
      "Validation 70\n",
      "Predicted review: 4 , actual review: 2\n",
      "echo show is said to work with certain apps but not cozi state works with echo show but the cozi family s doesn t very well amazon needs to go back to drawing board it would be such a needed piece of technology but it lacks the essential please fix cost of the echo show was marvelous got echo show to take on shopping list but that is all so far adding items to list has long lag and it not my router being slow my provider speed is gb speed not a problem but before new items is updated on cozi is very slow help is needed to get it updated to a working conditioning\n",
      "\n",
      "Validation 72\n",
      "Predicted review: 5 , actual review: 4\n",
      "we use alexa primarily for listening to music and checking the weather we are still learning other ways to use her everything has been ready and hands free so far the speaker has great volume and sound\n",
      "\n",
      "Validation 73\n",
      "Predicted review: 4 , actual review: 1\n",
      "product stopped working after return time ran out\n",
      "\n",
      "Validation 75\n",
      "Predicted review: 1 , actual review: 4\n",
      "it does what it says it will do the picture quality is better than what i have been receiving on cable tv only downside is if you pause the movie for more than a couple minutes it takes a long time to come back on and you often get a message that your internet speed is too slow i m clocking mb at my house on a good day also voice command through alexia doesn t work well but that could be operator error all in all for you can t beat it\n",
      "\n",
      "Validation 76\n",
      "Predicted review: 3 , actual review: 1\n",
      "bought the spot and loved it within months it started acting funny and would stop working called and they determined that it was overheating i was told to unplug and technical support would call within hours waited hours without response and replied to email and was asked to wait a week a week goes by with absolutely no response so i do the inline chat per instructions told to wait longer really unacceptable expected more from amazon find it funny how they always thank me for being a prime member but when an issue arises i cannot even get assistance\n",
      "\n",
      "Validation 77\n",
      "Predicted review: 3 , actual review: 5\n",
      "it knows everything we ask it to do havent smart hubbed it yet but does exactly as advertised and am very happy with our purchase sound quality is excellent also\n",
      "\n"
     ]
    },
    {
     "name": "stdout",
     "output_type": "stream",
     "text": [
      "Validation 79\n",
      "Predicted review: 5 , actual review: 4\n",
      "very helpful with daily activities\n",
      "\n",
      "Validation 81\n",
      "Predicted review: 1 , actual review: 4\n",
      "loving this way more than google home devices i ve been using for a couple months and if you re an amazon prime subscriber the value here is greater than google i m using to listen to free music with prime better than alternatives audible and you can even watch movies the display is a little small for lots of watching the sound should be louder and youtube needs to be available these issues put this at a to stars fix one of them youtube and its a star item to alleviate sound i ve paired with a blue tooth speaker right now this sits in my living area where i think it will shine is my office desk once there are great offers i could see purchasing additional for nightstand or other amazon alexa items for my household i felt happy after adding this to my house where as i felt stupid using google home\n",
      "\n",
      "Validation 84\n",
      "Predicted review: 3 , actual review: 5\n",
      "i already have an alexa and with amazon find today i could not resist getting an echo also it is the best thing i ever did i use them on each side of the house and couldn t be happier\n",
      "\n",
      "Validation 85\n",
      "Predicted review: 4 , actual review: 3\n",
      "alexa is a decent speaker if that s all you need she is terrible at most other things she consistently answers questions that were not asked or says hmmm i don t know that for everything else we ve gone back to just using our phones because she can t really look anything up pretty much everyone makes fun of me for spending money on this when i had an awesome bose bluetooth already i bought her because my mother who lives alone uses hers a lot and is happy with it but we have a full house with kids and i m less than impressed i d never recommend it to anyone except for senior citizens who love alone and need to be able to shout out for help in the event of a fall\n",
      "\n",
      "Validation 86\n",
      "Predicted review: 4 , actual review: 5\n",
      "i m so happy that i purchased alexa when i recently saw this at a friend s home he played some music while talking about the product i love the sound love that all i have to do is tell alexa or ask a question she responds immediately i haven t been able to listen to my cd s for a while since i have a problem within my stereo equipment for some time now so this makes me extremely happy that it s not an issue any longer\n",
      "\n",
      "Validation 87\n",
      "Predicted review: 5 , actual review: 4\n",
      "love it to play music works great for finding recipes need more family to have adapted machines to see\n",
      "\n",
      "Validation 93\n",
      "Predicted review: 4 , actual review: 5\n",
      "i really like the echo dot it s amazing to be able to set an alarm or timer just by talking to the echo dot\n",
      "\n",
      "Validation 100\n",
      "Predicted review: 3 , actual review: 2\n",
      "ask it to play motown radio on pandora and it keeps asking if i want to add a salsa station motown isn t close to salsa phonetically\n",
      "\n",
      "Validation 105\n",
      "Predicted review: 1 , actual review: 5\n",
      "i didn t realize it needed an external power source in order to utilize the fire stick i thought it was more along the lines of a flash drive device you singley plugged into your tv however since using my amazon fire stick i have enjoyed every moment of it and would definitely recommend this product to any and all\n",
      "\n",
      "Validation 107\n",
      "Predicted review: 4 , actual review: 3\n",
      "i like the weather options but alexa search compacity needs improvement she aint no google alexa gets our requests probably around of the time currently alexa doesn t do youtube either this is a huge drawback and why the echo show dropped in price international radio via tune in is awesome but again her search engine its like pulling teeth to get to anything\n",
      "\n",
      "Validation 109\n",
      "Predicted review: 3 , actual review: 5\n",
      "i connected it to my whole home sound system to play prime music which my google home mini can t do it works well\n",
      "\n",
      "Validation 111\n",
      "Predicted review: 3 , actual review: 2\n",
      "for as awesome as the echo and echo dots are the spot is a disappointment there is very little control over what the screen shows what the clock looks like what order things show up in etc at this point if i hadn t thrown the box away immediately i would have sent it back and just got another full size echo\n",
      "\n",
      "Validation 115\n",
      "Predicted review: 4 , actual review: 5\n",
      "i love this thing the alexa feature makes it so easy to find what you want no matter which streaming service has it no more searching netflix then amazon etc to see if either has your show alexa finds it for you\n",
      "\n"
     ]
    }
   ],
   "source": [
    "for i, y in enumerate(validationY):\n",
    "    #p = model.predict(np.array([validationX[i]])).round()[0].astype('int32')\n",
    "    prediction = model.predict(np.array([validationX[i]])).argmax()\n",
    "    actual = y.argmax()\n",
    "    if prediction != actual:\n",
    "        print(\"Validation\", i)\n",
    "        print(\"Predicted review:\", prediction + 1, \", actual review:\", actual + 1)\n",
    "        #print(validationX[i])\n",
    "        text = []\n",
    "        for word_i in validationX[i]:\n",
    "            if word_i in reverse_word_map:\n",
    "                text.append(reverse_word_map[word_i])\n",
    "        print(' '.join(text))\n",
    "        print()"
   ]
  },
  {
   "cell_type": "markdown",
   "metadata": {},
   "source": [
    "## First try conclusion\n",
    "While in some cases the model cannot be really guilty for misunderstanding (validation example 1, validation example 13), in many cases there could be some improvement. Time to tune model."
   ]
  },
  {
   "cell_type": "code",
   "execution_count": 156,
   "metadata": {},
   "outputs": [],
   "source": [
    "def tunable_reccurent_model(input_shape, output_shape, hyperparams):\n",
    "    model = Sequential()\n",
    "    model.add(embedding_layer)\n",
    "    \n",
    "    for i, lstm_size in enumerate(hyperparams['lstm_sizes']):\n",
    "        model.add(LSTM(lstm_size, dropout=hyperparams['dp']))\n",
    "    \n",
    "    for i, dense_size in enumerate(hyperparams['dense_sizes']):\n",
    "        model.add(Dense(dense_size, activation=hyperparams['dense_activation']))\n",
    "        model.add(Dropout(hyperparams['dp']))\n",
    "    \n",
    "    model.add(Dense(output_shape, activation='softmax'))\n",
    "    return model"
   ]
  },
  {
   "cell_type": "code",
   "execution_count": 157,
   "metadata": {},
   "outputs": [],
   "source": [
    "def evaluate_model(input_shape, output_shape,\n",
    "                   hyperparams, train_set, validation_set,\n",
    "                   train_epochs=100):\n",
    "    model = simple_reccurent_model(trainX.shape[1], trainY.shape[1])\n",
    "    model.compile(loss='categorical_crossentropy',\n",
    "                  optimizer=hyperparams['optimizer'],\n",
    "                  metrics=['accuracy'])\n",
    "    \n",
    "    model.fit(train_set[0], train_set[1], batch_size=hyperparams['batch_size'], epochs=train_epochs, verbose=0)\n",
    "    _, train_accuracy = model.evaluate(train_set[0], train_set[1])\n",
    "    _, validation_accuracy = model.evaluate(validation_set[0], validation_set[1])\n",
    "    print(\"Train accuaracy:\", train_accuracy, \"Validation Accuracy:\", validation_accuracy)\n",
    "    return validation_accuracy"
   ]
  },
  {
   "cell_type": "code",
   "execution_count": 152,
   "metadata": {},
   "outputs": [],
   "source": [
    "lstm_sizes = [[32], [64], [128], [64, 32]]\n",
    "dense_sizes = [[32], [64], [128], [64, 32]]\n",
    "dense_activations = ['relu', 'tanh', 'sigmoid']\n",
    "dps = [0.1, 0.2, 0.3]\n",
    "optimizers = ['Adam', 'SGD', 'RMSprop']\n",
    "epochs = [100, 125, 150]\n",
    "batch_sizes = [32, 64, 128]\n",
    "\n",
    "results = []\n",
    "counter=1\n",
    "# all hyperparameters here are enumerated not in random order - the least important are closer to outer cycle\n",
    "for ep in epochs:\n",
    "    for optimizer in optimizers:\n",
    "        for dense_activation in dense_activations:\n",
    "            for batch_size in batch_sizes:\n",
    "                for dp in dps:\n",
    "                    for dense_size in dense_sizes:\n",
    "                        for lstm_size in lstm_sizes:\n",
    "                            hyperparams = {\n",
    "                                'lstm_sizes': lstm_size,\n",
    "                                'dp': dp,\n",
    "                                'dense_sizes': dense_size,\n",
    "                                'dense_activation': dense_activation,\n",
    "                                'optimizer': optimizer,\n",
    "                                'batch_size': batch_size\n",
    "                            }\n",
    "                            #print(\"Interation\", counter)\n",
    "                            #acc = evaluate_model(trainX.shape[1], trainY.shape[1],\n",
    "                            #                    hyperparams, (trainX, trainY), (validationX, validationY),\n",
    "                            #                    ep)\n",
    "                            #results.append((acc, hyperparams, {'ep': ep, 'batch_size': batch_size}))\n",
    "                            #counter+=1\n",
    "                            #print()\n",
    "                            "
   ]
  },
  {
   "cell_type": "markdown",
   "metadata": {},
   "source": [
    "This method would find the best model among all the combinations, but it will take a lot of time. If every training would take similar amount of time that the original simple model took (about 10 minutes on 100 epochs), trying only the combinations of lstm_sizes and dense_sizes would take 6 * 6 * 10 = 360 minutes = 6 hours, and we got combinations of other hyperparameters. The required time would be enourmous.\n",
    "\n",
    "Alternative is to try every hyperparameter with default model, measure the impact on accuracy and then, judging on how good model performed with certain parameter, try to manually find the required combination.\n",
    "\n",
    "Pros of the second tactics are that it is much more computationally efficient. Cons are that some hyperparameters might improve performance only with combination with others, and we are likely to miss it.\n",
    "\n",
    "Nevertheless, we have to choose the computationally efficient path."
   ]
  },
  {
   "cell_type": "markdown",
   "metadata": {},
   "source": [
    "Additional time optimization is to cut the amount of epochs here. On 25 epochs the results probably would not be very much impressive, but it could be enough for us to determine if those hyperparameters are comparatively work or not.\n",
    "\n",
    "We will not try here total grid search of hyperparameters. Instead we focus on how each hyperparameter changes performance individually, and then try to finish tuning manually."
   ]
  },
  {
   "cell_type": "code",
   "execution_count": 149,
   "metadata": {},
   "outputs": [],
   "source": [
    "import copy"
   ]
  },
  {
   "cell_type": "code",
   "execution_count": 158,
   "metadata": {},
   "outputs": [
    {
     "name": "stdout",
     "output_type": "stream",
     "text": [
      "Interation 1\n",
      "116/116 [==============================] - 0s     \n",
      "Train accuaracy: 0.772287862577 Validation Accuracy: 0.586206892441\n",
      "\n",
      "Interation 2\n",
      "116/116 [==============================] - 0s     \n",
      "Train accuaracy: 0.741138560687 Validation Accuracy: 0.543103452387\n",
      "\n",
      "Interation 3\n",
      "116/116 [==============================] - 0s     \n",
      "Train accuaracy: 0.757250268528 Validation Accuracy: 0.577586204841\n",
      "\n",
      "Interation 4\n",
      "116/116 [==============================] - 0s     \n",
      "Train accuaracy: 0.78410311493 Validation Accuracy: 0.51724137931\n",
      "\n",
      "Interation 5\n",
      "116/116 [==============================] - 0s     \n",
      "Train accuaracy: 0.794844253491 Validation Accuracy: 0.534482760676\n",
      "\n",
      "Interation 6\n",
      "116/116 [==============================] - 0s     \n",
      "Train accuaracy: 0.737916219183 Validation Accuracy: 0.525862064855\n",
      "\n",
      "Interation 7\n",
      "116/116 [==============================] - 0s     \n",
      "Train accuaracy: 0.766917293233 Validation Accuracy: 0.568965519297\n",
      "\n",
      "Interation 8\n",
      "116/116 [==============================] - 0s     \n",
      "Train accuaracy: 0.788399570418 Validation Accuracy: 0.53448275451\n",
      "\n",
      "Interation 9\n",
      "116/116 [==============================] - 0s     \n",
      "Train accuaracy: 0.742212674544 Validation Accuracy: 0.4913793124\n",
      "\n",
      "Interation 10\n",
      "116/116 [==============================] - 0s     \n",
      "Train accuaracy: 0.776584317938 Validation Accuracy: 0.577586204841\n",
      "\n",
      "Interation 11\n",
      "116/116 [==============================] - 0s     \n",
      "Train accuaracy: 0.740064446831 Validation Accuracy: 0.586206892441\n",
      "\n",
      "Interation 12\n",
      "116/116 [==============================] - 0s     \n",
      "Train accuaracy: 0.749731471536 Validation Accuracy: 0.508620691711\n",
      "\n",
      "Interation 13\n",
      "116/116 [==============================] - 0s     \n",
      "Train accuaracy: 0.757250268528 Validation Accuracy: 0.543103446221\n",
      "\n",
      "Interation 14\n",
      "116/116 [==============================] - 0s     \n",
      "Train accuaracy: 0.385606874393 Validation Accuracy: 0.362068966545\n",
      "\n",
      "Interation 15\n",
      "116/116 [==============================] - 0s     \n",
      "Train accuaracy: 0.649838882922 Validation Accuracy: 0.51724137931\n",
      "\n",
      "Interation 16\n",
      "116/116 [==============================] - 0s     \n",
      "Train accuaracy: 0.832438238517 Validation Accuracy: 0.603448275862\n",
      "\n",
      "Interation 17\n",
      "116/116 [==============================] - 0s     \n",
      "Train accuaracy: 0.752953813168 Validation Accuracy: 0.568965521352\n",
      "\n",
      "Interation 18\n",
      "116/116 [==============================] - 0s     \n",
      "Train accuaracy: 0.644468313705 Validation Accuracy: 0.525862071021\n",
      "\n"
     ]
    }
   ],
   "source": [
    "lstm_sizes = [[32], [64], [64, 32]]\n",
    "dense_sizes = [[32], [64], [64, 32]]\n",
    "dense_activations = ['relu', 'tanh', 'sigmoid']\n",
    "dps = [0.1, 0.2, 0.3]\n",
    "optimizers = ['Adam', 'SGD', 'RMSprop']\n",
    "epochs = 25\n",
    "batch_sizes = [32, 64, 128]\n",
    "\n",
    "hyperparams = {\n",
    "    'lstm_size': lstm_sizes,\n",
    "    'dense_size': dense_sizes,\n",
    "    'dense_activation': dense_activations,\n",
    "    'dp': dps,\n",
    "    'optimizer': optimizers,\n",
    "    'batch_size': batch_sizes\n",
    "}\n",
    "\n",
    "default_hyperparams = {\n",
    "    'lstm_size': [64],\n",
    "    'dp': 0.2,\n",
    "    'dense_size': [64],\n",
    "    'dense_activation': 'relu',\n",
    "    'optimizer': 'adam',\n",
    "    'batch_size': 64\n",
    "}\n",
    "\n",
    "counter = 1\n",
    "validation_results = []\n",
    "for hp_name, hp_list in hyperparams.items():\n",
    "    accs = []\n",
    "    for hp_val in hp_list:\n",
    "        hp = copy.deepcopy(default_hyperparams)\n",
    "        hp[hp_name] = hp_val\n",
    "        print(\"Interation\", counter)\n",
    "        acc = evaluate_model(trainX.shape[1], trainY.shape[1],\n",
    "                            hp, (trainX, trainY), (validationX, validationY), epochs)\n",
    "        counter+=1\n",
    "        accs.append(acc)\n",
    "        print()\n",
    "    validation_results.append((hp_name, accs))"
   ]
  },
  {
   "cell_type": "code",
   "execution_count": 159,
   "metadata": {},
   "outputs": [
    {
     "data": {
      "image/png": "[encoded data removed]",
      "text/plain": [
       "<matplotlib.figure.Figure at 0xfd99e4d588>"
      ]
     },
     "metadata": {
      "needs_background": "light"
     },
     "output_type": "display_data"
    }
   ],
   "source": [
    "fig = plt.figure(figsize=(6, 18))\n",
    "\n",
    "for i, result in enumerate(validation_results):\n",
    "    ax = fig.add_subplot(len(validation_results), 1, i+1)\n",
    "    hp_name = result[0]\n",
    "    hp_errors = result[1]\n",
    "    \n",
    "    ax.set_title(hp_name)\n",
    "    ax.plot(range(0, len(hp_errors)), hp_errors)\n",
    "    plt.sca(ax)\n",
    "    x_labels = hyperparams[hp_name]\n",
    "    plt.xticks(range(0, len(hp_errors)), x_labels)\n",
    "    \n",
    "fig.tight_layout()\n",
    "plt.show()"
   ]
  },
  {
   "cell_type": "code",
   "execution_count": 163,
   "metadata": {},
   "outputs": [],
   "source": [
    "# edited function to return model\n",
    "def evaluate_model(input_shape, output_shape,\n",
    "                   hyperparams, train_set, validation_set,\n",
    "                   train_epochs=100, verbose=0):\n",
    "    model = simple_reccurent_model(trainX.shape[1], trainY.shape[1])\n",
    "    model.compile(loss='categorical_crossentropy',\n",
    "                  optimizer=hyperparams['optimizer'],\n",
    "                  metrics=['accuracy'])\n",
    "    \n",
    "    model.fit(train_set[0], train_set[1], batch_size=hyperparams['batch_size'], epochs=train_epochs, verbose=verbose)\n",
    "    _, train_accuracy = model.evaluate(train_set[0], train_set[1])\n",
    "    _, validation_accuracy = model.evaluate(validation_set[0], validation_set[1])\n",
    "    print(\"Train accuaracy:\", train_accuracy, \"Validation Accuracy:\", validation_accuracy)\n",
    "    return validation_accuracy, model"
   ]
  },
  {
   "cell_type": "code",
   "execution_count": 164,
   "metadata": {},
   "outputs": [
    {
     "name": "stdout",
     "output_type": "stream",
     "text": [
      "Epoch 1/100\n",
      "931/931 [==============================] - 9s - loss: 1.5070 - acc: 0.3598     \n",
      "Epoch 2/100\n",
      "931/931 [==============================] - 8s - loss: 1.4436 - acc: 0.3878     \n",
      "Epoch 3/100\n",
      "931/931 [==============================] - 7s - loss: 1.4107 - acc: 0.3921     \n",
      "Epoch 4/100\n",
      "931/931 [==============================] - 7s - loss: 1.3747 - acc: 0.4135     \n",
      "Epoch 5/100\n",
      "931/931 [==============================] - 7s - loss: 1.3179 - acc: 0.4479     \n",
      "Epoch 6/100\n",
      "931/931 [==============================] - 8s - loss: 1.2612 - acc: 0.4586     \n",
      "Epoch 7/100\n",
      "931/931 [==============================] - 8s - loss: 1.2228 - acc: 0.4834     \n",
      "Epoch 8/100\n",
      "931/931 [==============================] - 8s - loss: 1.2100 - acc: 0.4608     \n",
      "Epoch 9/100\n",
      "931/931 [==============================] - 7s - loss: 1.1833 - acc: 0.4876     \n",
      "Epoch 10/100\n",
      "931/931 [==============================] - 7s - loss: 1.1677 - acc: 0.5124     \n",
      "Epoch 11/100\n",
      "931/931 [==============================] - 7s - loss: 1.1474 - acc: 0.5177     \n",
      "Epoch 12/100\n",
      "931/931 [==============================] - 8s - loss: 1.1129 - acc: 0.5166     \n",
      "Epoch 13/100\n",
      "931/931 [==============================] - 7s - loss: 1.1086 - acc: 0.5328     \n",
      "Epoch 14/100\n",
      "931/931 [==============================] - 7s - loss: 1.0541 - acc: 0.5467     \n",
      "Epoch 15/100\n",
      "931/931 [==============================] - 7s - loss: 1.0467 - acc: 0.5542     \n",
      "Epoch 16/100\n",
      "931/931 [==============================] - 7s - loss: 0.9795 - acc: 0.5951     \n",
      "Epoch 17/100\n",
      "931/931 [==============================] - 7s - loss: 0.9541 - acc: 0.6101     \n",
      "Epoch 18/100\n",
      "931/931 [==============================] - 8s - loss: 0.9183 - acc: 0.6348     \n",
      "Epoch 19/100\n",
      "931/931 [==============================] - 7s - loss: 0.8972 - acc: 0.6434     \n",
      "Epoch 20/100\n",
      "931/931 [==============================] - 7s - loss: 0.8651 - acc: 0.6509     \n",
      "Epoch 21/100\n",
      "931/931 [==============================] - 7s - loss: 0.9054 - acc: 0.6294     \n",
      "Epoch 22/100\n",
      "931/931 [==============================] - 8s - loss: 0.8330 - acc: 0.6477     \n",
      "Epoch 23/100\n",
      "931/931 [==============================] - 7s - loss: 0.8036 - acc: 0.6735     \n",
      "Epoch 24/100\n",
      "931/931 [==============================] - 8s - loss: 0.7640 - acc: 0.6874     \n",
      "Epoch 25/100\n",
      "931/931 [==============================] - 7s - loss: 0.7983 - acc: 0.6702     \n",
      "Epoch 26/100\n",
      "931/931 [==============================] - 8s - loss: 0.6987 - acc: 0.7336     \n",
      "Epoch 27/100\n",
      "931/931 [==============================] - 8s - loss: 0.6378 - acc: 0.7626     \n",
      "Epoch 28/100\n",
      "931/931 [==============================] - 8s - loss: 0.6512 - acc: 0.7368     \n",
      "Epoch 29/100\n",
      "931/931 [==============================] - 8s - loss: 0.5968 - acc: 0.7766     \n",
      "Epoch 30/100\n",
      "931/931 [==============================] - 8s - loss: 0.5514 - acc: 0.7981     \n",
      "Epoch 31/100\n",
      "931/931 [==============================] - 7s - loss: 0.5949 - acc: 0.7723     \n",
      "Epoch 32/100\n",
      "931/931 [==============================] - 8s - loss: 0.5244 - acc: 0.8110     \n",
      "Epoch 33/100\n",
      "931/931 [==============================] - 7s - loss: 0.4593 - acc: 0.8335     \n",
      "Epoch 34/100\n",
      "931/931 [==============================] - 8s - loss: 0.4868 - acc: 0.8153     \n",
      "Epoch 35/100\n",
      "931/931 [==============================] - 7s - loss: 0.4293 - acc: 0.8464     \n",
      "Epoch 36/100\n",
      "931/931 [==============================] - 8s - loss: 0.4181 - acc: 0.8507     \n",
      "Epoch 37/100\n",
      "931/931 [==============================] - 8s - loss: 0.3771 - acc: 0.8668     \n",
      "Epoch 38/100\n",
      "931/931 [==============================] - 8s - loss: 0.4063 - acc: 0.8464     \n",
      "Epoch 39/100\n",
      "931/931 [==============================] - 8s - loss: 0.3750 - acc: 0.8604     \n",
      "Epoch 40/100\n",
      "931/931 [==============================] - 7s - loss: 0.3355 - acc: 0.8894     \n",
      "Epoch 41/100\n",
      "931/931 [==============================] - 8s - loss: 0.3179 - acc: 0.8915     \n",
      "Epoch 42/100\n",
      "931/931 [==============================] - 8s - loss: 0.3271 - acc: 0.8808     \n",
      "Epoch 43/100\n",
      "931/931 [==============================] - 8s - loss: 0.2741 - acc: 0.8980     \n",
      "Epoch 44/100\n",
      "931/931 [==============================] - 7s - loss: 0.2736 - acc: 0.9044     \n",
      "Epoch 45/100\n",
      "931/931 [==============================] - 8s - loss: 0.2614 - acc: 0.9130     \n",
      "Epoch 46/100\n",
      "931/931 [==============================] - 8s - loss: 0.2786 - acc: 0.9012     \n",
      "Epoch 47/100\n",
      "931/931 [==============================] - 8s - loss: 0.2497 - acc: 0.9033     \n",
      "Epoch 48/100\n",
      "931/931 [==============================] - 8s - loss: 0.2324 - acc: 0.9151     \n",
      "Epoch 49/100\n",
      "931/931 [==============================] - 8s - loss: 0.2286 - acc: 0.9270     \n",
      "Epoch 50/100\n",
      "931/931 [==============================] - 7s - loss: 0.2175 - acc: 0.9237     \n",
      "Epoch 51/100\n",
      "931/931 [==============================] - 8s - loss: 0.2161 - acc: 0.9237     \n",
      "Epoch 52/100\n",
      "931/931 [==============================] - 7s - loss: 0.1905 - acc: 0.9366     \n",
      "Epoch 53/100\n",
      "931/931 [==============================] - 8s - loss: 0.1948 - acc: 0.9388     \n",
      "Epoch 54/100\n",
      "931/931 [==============================] - 7s - loss: 0.1572 - acc: 0.9474     \n",
      "Epoch 55/100\n",
      "931/931 [==============================] - 8s - loss: 0.1639 - acc: 0.9452     \n",
      "Epoch 56/100\n",
      "931/931 [==============================] - 7s - loss: 0.1724 - acc: 0.9388     \n",
      "Epoch 57/100\n",
      "931/931 [==============================] - 8s - loss: 0.1652 - acc: 0.9398     \n",
      "Epoch 58/100\n",
      "931/931 [==============================] - 7s - loss: 0.1767 - acc: 0.9345     \n",
      "Epoch 59/100\n",
      "931/931 [==============================] - 8s - loss: 0.1588 - acc: 0.9463     \n",
      "Epoch 60/100\n",
      "931/931 [==============================] - 7s - loss: 0.1438 - acc: 0.9484     \n",
      "Epoch 61/100\n",
      "931/931 [==============================] - 8s - loss: 0.1826 - acc: 0.9323     \n",
      "Epoch 62/100\n",
      "931/931 [==============================] - 7s - loss: 0.1852 - acc: 0.9291     \n",
      "Epoch 63/100\n",
      "931/931 [==============================] - 8s - loss: 0.1632 - acc: 0.9409     \n",
      "Epoch 64/100\n",
      "931/931 [==============================] - 7s - loss: 0.1525 - acc: 0.9484     \n",
      "Epoch 65/100\n",
      "931/931 [==============================] - 7s - loss: 0.1364 - acc: 0.9398     \n",
      "Epoch 66/100\n",
      "931/931 [==============================] - 7s - loss: 0.1409 - acc: 0.9441     \n",
      "Epoch 67/100\n",
      "931/931 [==============================] - 8s - loss: 0.1291 - acc: 0.9506     \n",
      "Epoch 68/100\n",
      "931/931 [==============================] - 7s - loss: 0.1329 - acc: 0.9495     \n",
      "Epoch 69/100\n",
      "931/931 [==============================] - 8s - loss: 0.1368 - acc: 0.9484     \n",
      "Epoch 70/100\n",
      "931/931 [==============================] - 7s - loss: 0.1345 - acc: 0.9495     \n",
      "Epoch 71/100\n",
      "931/931 [==============================] - 8s - loss: 0.1476 - acc: 0.9506     \n",
      "Epoch 72/100\n",
      "931/931 [==============================] - 7s - loss: 0.1305 - acc: 0.9549     \n",
      "Epoch 73/100\n",
      "931/931 [==============================] - 8s - loss: 0.1592 - acc: 0.9377     \n",
      "Epoch 74/100\n",
      "931/931 [==============================] - 7s - loss: 0.1251 - acc: 0.9560     \n",
      "Epoch 75/100\n",
      "931/931 [==============================] - 8s - loss: 0.1323 - acc: 0.9570     \n",
      "Epoch 76/100\n",
      "931/931 [==============================] - 7s - loss: 0.1293 - acc: 0.9517     \n",
      "Epoch 77/100\n",
      "931/931 [==============================] - 8s - loss: 0.1217 - acc: 0.9506     \n",
      "Epoch 78/100\n",
      "931/931 [==============================] - 8s - loss: 0.1354 - acc: 0.9441     \n",
      "Epoch 79/100\n",
      "931/931 [==============================] - 8s - loss: 0.1254 - acc: 0.9549     \n",
      "Epoch 80/100\n",
      "931/931 [==============================] - 7s - loss: 0.2008 - acc: 0.9173     \n",
      "Epoch 81/100\n",
      "931/931 [==============================] - 8s - loss: 0.2161 - acc: 0.9205     \n",
      "Epoch 82/100\n",
      "931/931 [==============================] - 8s - loss: 0.1246 - acc: 0.9549     \n",
      "Epoch 83/100\n",
      "931/931 [==============================] - 8s - loss: 0.1283 - acc: 0.9538     \n",
      "Epoch 84/100\n",
      "931/931 [==============================] - 8s - loss: 0.1100 - acc: 0.9603     \n",
      "Epoch 85/100\n",
      "931/931 [==============================] - 8s - loss: 0.1239 - acc: 0.9484     \n",
      "Epoch 86/100\n",
      "931/931 [==============================] - 7s - loss: 0.1292 - acc: 0.9527     \n",
      "Epoch 87/100\n",
      "931/931 [==============================] - 8s - loss: 0.1065 - acc: 0.9624     \n",
      "Epoch 88/100\n",
      "931/931 [==============================] - 8s - loss: 0.1110 - acc: 0.9549     \n",
      "Epoch 89/100\n"
     ]
    },
    {
     "name": "stdout",
     "output_type": "stream",
     "text": [
      "931/931 [==============================] - 8s - loss: 0.1104 - acc: 0.9549     \n",
      "Epoch 90/100\n",
      "931/931 [==============================] - 8s - loss: 0.1054 - acc: 0.9570     \n",
      "Epoch 91/100\n",
      "931/931 [==============================] - 8s - loss: 0.1071 - acc: 0.9592     \n",
      "Epoch 92/100\n",
      "931/931 [==============================] - 7s - loss: 0.1058 - acc: 0.9592     \n",
      "Epoch 93/100\n",
      "931/931 [==============================] - 8s - loss: 0.1069 - acc: 0.9603     \n",
      "Epoch 94/100\n",
      "931/931 [==============================] - 7s - loss: 0.1172 - acc: 0.9570     \n",
      "Epoch 95/100\n",
      "931/931 [==============================] - 8s - loss: 0.0915 - acc: 0.9646     \n",
      "Epoch 96/100\n",
      "931/931 [==============================] - 7s - loss: 0.0912 - acc: 0.9646     \n",
      "Epoch 97/100\n",
      "931/931 [==============================] - 8s - loss: 0.0985 - acc: 0.9603     \n",
      "Epoch 98/100\n",
      "931/931 [==============================] - 7s - loss: 0.0957 - acc: 0.9656     \n",
      "Epoch 99/100\n",
      "931/931 [==============================] - 8s - loss: 0.0898 - acc: 0.9667     \n",
      "Epoch 100/100\n",
      "931/931 [==============================] - 7s - loss: 0.0934 - acc: 0.9624     \n",
      "116/116 [==============================] - 0s     \n",
      "Train accuaracy: 0.968850698174 Validation Accuracy: 0.594827586207\n"
     ]
    }
   ],
   "source": [
    "tuned_hyperparams = {\n",
    "    'lstm_size': [32],\n",
    "    'dp': 0.2,\n",
    "    'dense_size': [64],\n",
    "    'dense_activation': 'relu',\n",
    "    'optimizer': 'adam',\n",
    "    'batch_size': 32\n",
    "}\n",
    "\n",
    "acc, model = evaluate_model(trainX.shape[1], trainY.shape[1],\n",
    "    tuned_hyperparams, (trainX, trainY), (validationX, validationY), 100, 1)"
   ]
  },
  {
   "cell_type": "code",
   "execution_count": 165,
   "metadata": {},
   "outputs": [
    {
     "name": "stdout",
     "output_type": "stream",
     "text": [
      "Epoch 1/100\n",
      "931/931 [==============================] - 9s - loss: 1.4675 - acc: 0.3695     \n",
      "Epoch 2/100\n",
      "931/931 [==============================] - 8s - loss: 1.4120 - acc: 0.4049     \n",
      "Epoch 3/100\n",
      "931/931 [==============================] - 8s - loss: 1.3542 - acc: 0.4264     \n",
      "Epoch 4/100\n",
      "931/931 [==============================] - 8s - loss: 1.3101 - acc: 0.4243     \n",
      "Epoch 5/100\n",
      "931/931 [==============================] - 8s - loss: 1.2824 - acc: 0.4490     \n",
      "Epoch 6/100\n",
      "931/931 [==============================] - 8s - loss: 1.2569 - acc: 0.4522     \n",
      "Epoch 7/100\n",
      "931/931 [==============================] - 8s - loss: 1.2167 - acc: 0.4726     \n",
      "Epoch 8/100\n",
      "931/931 [==============================] - 8s - loss: 1.1447 - acc: 0.5177     \n",
      "Epoch 9/100\n",
      "931/931 [==============================] - 8s - loss: 1.1598 - acc: 0.5134     \n",
      "Epoch 10/100\n",
      "931/931 [==============================] - 8s - loss: 1.1056 - acc: 0.5285     \n",
      "Epoch 11/100\n",
      "931/931 [==============================] - 8s - loss: 1.0655 - acc: 0.5456     \n",
      "Epoch 12/100\n",
      "931/931 [==============================] - 8s - loss: 1.0198 - acc: 0.5779     \n",
      "Epoch 13/100\n",
      "931/931 [==============================] - 8s - loss: 0.9955 - acc: 0.5811     \n",
      "Epoch 14/100\n",
      "931/931 [==============================] - 8s - loss: 0.9532 - acc: 0.5951     \n",
      "Epoch 15/100\n",
      "931/931 [==============================] - 8s - loss: 0.9134 - acc: 0.6337     \n",
      "Epoch 16/100\n",
      "931/931 [==============================] - 8s - loss: 0.9002 - acc: 0.6219     \n",
      "Epoch 17/100\n",
      "931/931 [==============================] - 9s - loss: 0.8443 - acc: 0.6520     \n",
      "Epoch 18/100\n",
      "931/931 [==============================] - 9s - loss: 0.8848 - acc: 0.6208     \n",
      "Epoch 19/100\n",
      "931/931 [==============================] - 9s - loss: 0.7754 - acc: 0.6864     \n",
      "Epoch 20/100\n",
      "931/931 [==============================] - 8s - loss: 0.7572 - acc: 0.7132     \n",
      "Epoch 21/100\n",
      "931/931 [==============================] - 8s - loss: 0.7325 - acc: 0.6939     \n",
      "Epoch 22/100\n",
      "931/931 [==============================] - 10s - loss: 0.7073 - acc: 0.7078    \n",
      "Epoch 23/100\n",
      "931/931 [==============================] - 10s - loss: 0.6529 - acc: 0.7444    \n",
      "Epoch 24/100\n",
      "931/931 [==============================] - 9s - loss: 0.6412 - acc: 0.7540     \n",
      "Epoch 25/100\n",
      "931/931 [==============================] - 11s - loss: 0.6126 - acc: 0.7562    \n",
      "Epoch 26/100\n",
      "931/931 [==============================] - 9s - loss: 0.5656 - acc: 0.7981     \n",
      "Epoch 27/100\n",
      "931/931 [==============================] - 10s - loss: 0.5382 - acc: 0.8045    \n",
      "Epoch 28/100\n",
      "931/931 [==============================] - 10s - loss: 0.5297 - acc: 0.7970    \n",
      "Epoch 29/100\n",
      "931/931 [==============================] - 10s - loss: 0.4925 - acc: 0.8195    \n",
      "Epoch 30/100\n",
      "931/931 [==============================] - 9s - loss: 0.4492 - acc: 0.8367     \n",
      "Epoch 31/100\n",
      "931/931 [==============================] - 10s - loss: 0.4544 - acc: 0.8271    \n",
      "Epoch 32/100\n",
      "931/931 [==============================] - 10s - loss: 0.3749 - acc: 0.8754    \n",
      "Epoch 33/100\n",
      "931/931 [==============================] - 10s - loss: 0.3939 - acc: 0.8571    \n",
      "Epoch 34/100\n",
      "931/931 [==============================] - 10s - loss: 0.3876 - acc: 0.8550    \n",
      "Epoch 35/100\n",
      "931/931 [==============================] - 10s - loss: 0.3515 - acc: 0.8700    \n",
      "Epoch 36/100\n",
      "931/931 [==============================] - 10s - loss: 0.3510 - acc: 0.8786    \n",
      "Epoch 37/100\n",
      "931/931 [==============================] - 10s - loss: 0.3463 - acc: 0.8604    \n",
      "Epoch 38/100\n",
      "931/931 [==============================] - 9s - loss: 0.3072 - acc: 0.8915     \n",
      "Epoch 39/100\n",
      "931/931 [==============================] - 10s - loss: 0.2792 - acc: 0.9044    \n",
      "Epoch 40/100\n",
      "931/931 [==============================] - 9s - loss: 0.2527 - acc: 0.9173     \n",
      "Epoch 41/100\n",
      "931/931 [==============================] - 10s - loss: 0.2642 - acc: 0.9066    \n",
      "Epoch 42/100\n",
      "931/931 [==============================] - 11s - loss: 0.2440 - acc: 0.9151    \n",
      "Epoch 43/100\n",
      "931/931 [==============================] - 10s - loss: 0.2347 - acc: 0.9184    \n",
      "Epoch 44/100\n",
      "931/931 [==============================] - 8s - loss: 0.2209 - acc: 0.9237     \n",
      "Epoch 45/100\n",
      "931/931 [==============================] - 8s - loss: 0.1993 - acc: 0.9313     \n",
      "Epoch 46/100\n",
      "931/931 [==============================] - 8s - loss: 0.2090 - acc: 0.9280     \n",
      "Epoch 47/100\n",
      "931/931 [==============================] - 8s - loss: 0.2352 - acc: 0.9076     \n",
      "Epoch 48/100\n",
      "931/931 [==============================] - 8s - loss: 0.1929 - acc: 0.9334     \n",
      "Epoch 49/100\n",
      "931/931 [==============================] - 8s - loss: 0.1910 - acc: 0.9270     \n",
      "Epoch 50/100\n",
      "931/931 [==============================] - 8s - loss: 0.1933 - acc: 0.9345     \n",
      "Epoch 51/100\n",
      "931/931 [==============================] - 7s - loss: 0.1762 - acc: 0.9388     \n",
      "Epoch 52/100\n",
      "931/931 [==============================] - 8s - loss: 0.1990 - acc: 0.9291     \n",
      "Epoch 53/100\n",
      "931/931 [==============================] - 7s - loss: 0.2018 - acc: 0.9248     \n",
      "Epoch 54/100\n",
      "931/931 [==============================] - 7s - loss: 0.1698 - acc: 0.9431     \n",
      "Epoch 55/100\n",
      "931/931 [==============================] - 7s - loss: 0.1784 - acc: 0.9323     \n",
      "Epoch 56/100\n",
      "931/931 [==============================] - 7s - loss: 0.1676 - acc: 0.9441     \n",
      "Epoch 57/100\n",
      "931/931 [==============================] - 8s - loss: 0.1500 - acc: 0.9431     \n",
      "Epoch 58/100\n",
      "931/931 [==============================] - 8s - loss: 0.1544 - acc: 0.9452     \n",
      "Epoch 59/100\n",
      "931/931 [==============================] - 8s - loss: 0.1463 - acc: 0.9441     \n",
      "Epoch 60/100\n",
      "931/931 [==============================] - 8s - loss: 0.1439 - acc: 0.9474     \n",
      "Epoch 61/100\n",
      "931/931 [==============================] - 8s - loss: 0.1419 - acc: 0.9474     \n",
      "Epoch 62/100\n",
      "931/931 [==============================] - 8s - loss: 0.1452 - acc: 0.9420     \n",
      "Epoch 63/100\n",
      "931/931 [==============================] - 8s - loss: 0.1606 - acc: 0.9409     \n",
      "Epoch 64/100\n",
      "931/931 [==============================] - 8s - loss: 0.1427 - acc: 0.9452     \n",
      "Epoch 65/100\n",
      "931/931 [==============================] - 8s - loss: 0.1503 - acc: 0.9377     \n",
      "Epoch 66/100\n",
      "931/931 [==============================] - 8s - loss: 0.1299 - acc: 0.9506     \n",
      "Epoch 67/100\n",
      "931/931 [==============================] - 8s - loss: 0.1136 - acc: 0.9560     \n",
      "Epoch 68/100\n",
      "931/931 [==============================] - 8s - loss: 0.1359 - acc: 0.9484     \n",
      "Epoch 69/100\n",
      "931/931 [==============================] - 8s - loss: 0.1620 - acc: 0.9409     \n",
      "Epoch 70/100\n",
      "931/931 [==============================] - 8s - loss: 0.1403 - acc: 0.9527     \n",
      "Epoch 71/100\n",
      "931/931 [==============================] - 8s - loss: 0.1318 - acc: 0.9527     \n",
      "Epoch 72/100\n",
      "931/931 [==============================] - 8s - loss: 0.1248 - acc: 0.9549     \n",
      "Epoch 73/100\n",
      "931/931 [==============================] - 8s - loss: 0.1264 - acc: 0.9495     \n",
      "Epoch 74/100\n",
      "931/931 [==============================] - 8s - loss: 0.1195 - acc: 0.9463     \n",
      "Epoch 75/100\n",
      "931/931 [==============================] - 8s - loss: 0.1447 - acc: 0.9506     \n",
      "Epoch 76/100\n",
      "931/931 [==============================] - 8s - loss: 0.1238 - acc: 0.9560     \n",
      "Epoch 77/100\n",
      "931/931 [==============================] - 8s - loss: 0.1246 - acc: 0.9527     \n",
      "Epoch 78/100\n",
      "931/931 [==============================] - 8s - loss: 0.1180 - acc: 0.9581     \n",
      "Epoch 79/100\n",
      "931/931 [==============================] - 8s - loss: 0.0991 - acc: 0.9689     \n",
      "Epoch 80/100\n",
      "931/931 [==============================] - 8s - loss: 0.1019 - acc: 0.9678     \n",
      "Epoch 81/100\n",
      "931/931 [==============================] - 8s - loss: 0.1060 - acc: 0.9592     \n",
      "Epoch 82/100\n",
      "931/931 [==============================] - 8s - loss: 0.0954 - acc: 0.9656     \n",
      "Epoch 83/100\n",
      "931/931 [==============================] - 8s - loss: 0.1179 - acc: 0.9506     \n",
      "Epoch 84/100\n",
      "931/931 [==============================] - 8s - loss: 0.1199 - acc: 0.9527     \n",
      "Epoch 85/100\n",
      "931/931 [==============================] - 8s - loss: 0.1026 - acc: 0.9560     \n",
      "Epoch 86/100\n",
      "931/931 [==============================] - 8s - loss: 0.1024 - acc: 0.9592     \n",
      "Epoch 87/100\n",
      "931/931 [==============================] - 8s - loss: 0.1006 - acc: 0.9603     \n",
      "Epoch 88/100\n",
      "931/931 [==============================] - 8s - loss: 0.1265 - acc: 0.9538     \n",
      "Epoch 89/100\n"
     ]
    },
    {
     "name": "stdout",
     "output_type": "stream",
     "text": [
      "931/931 [==============================] - 8s - loss: 0.1057 - acc: 0.9581     \n",
      "Epoch 90/100\n",
      "931/931 [==============================] - 8s - loss: 0.0920 - acc: 0.9624     \n",
      "Epoch 91/100\n",
      "931/931 [==============================] - 8s - loss: 0.1045 - acc: 0.9603     \n",
      "Epoch 92/100\n",
      "931/931 [==============================] - 8s - loss: 0.1026 - acc: 0.9624     \n",
      "Epoch 93/100\n",
      "931/931 [==============================] - 8s - loss: 0.0944 - acc: 0.9656     \n",
      "Epoch 94/100\n",
      "931/931 [==============================] - 8s - loss: 0.1043 - acc: 0.9603     \n",
      "Epoch 95/100\n",
      "931/931 [==============================] - 8s - loss: 0.1022 - acc: 0.9603     \n",
      "Epoch 96/100\n",
      "931/931 [==============================] - 8s - loss: 0.0938 - acc: 0.9603     \n",
      "Epoch 97/100\n",
      "931/931 [==============================] - 8s - loss: 0.0913 - acc: 0.9678     \n",
      "Epoch 98/100\n",
      "931/931 [==============================] - 8s - loss: 0.1014 - acc: 0.9613     \n",
      "Epoch 99/100\n",
      "931/931 [==============================] - 8s - loss: 0.0947 - acc: 0.9656     \n",
      "Epoch 100/100\n",
      "931/931 [==============================] - 8s - loss: 0.1031 - acc: 0.9570     \n",
      "116/116 [==============================] - 0s     \n",
      "Train accuaracy: 0.96992481203 Validation Accuracy: 0.594827584152\n"
     ]
    }
   ],
   "source": [
    "tuned_hyperparams = {\n",
    "    'lstm_size': [32],\n",
    "    'dp': 0.5,\n",
    "    'dense_size': [64],\n",
    "    'dense_activation': 'relu',\n",
    "    'optimizer': 'adam',\n",
    "    'batch_size': 32\n",
    "}\n",
    "\n",
    "acc, model2 = evaluate_model(trainX.shape[1], trainY.shape[1],\n",
    "    tuned_hyperparams, (trainX, trainY), (validationX, validationY), 50, 1)"
   ]
  },
  {
   "cell_type": "markdown",
   "metadata": {},
   "source": [
    "Third model and id didn't improve accuracy on validation set. We have a huge overfitting. Small dataset is the main suspect in that.\n",
    "\n",
    "We have to reconsider the problem. Choosing the rating on 1-5 scale is quite arbitrary proccess. As we saw earlier when we inspected errors, there are misleading samples.\n",
    "\n",
    "This time let's assume that rating of 1-3 is bad and of 4-5 is good. What is percentage of error in that case?"
   ]
  },
  {
   "cell_type": "code",
   "execution_count": 168,
   "metadata": {},
   "outputs": [
    {
     "name": "stdout",
     "output_type": "stream",
     "text": [
      "Validation 7\n",
      "Predicted review is good: False , actual review is good: True\n",
      "love it\n",
      "\n",
      "Validation 14\n",
      "Predicted review is good: True , actual review is good: False\n",
      "the ase of participating with echo\n",
      "\n",
      "Validation 15\n",
      "Predicted review is good: False , actual review is good: True\n",
      "it works perfect\n",
      "\n",
      "Validation 38\n",
      "Predicted review is good: False , actual review is good: True\n",
      "have these in almost every room i really have enjoyed them works perfectly\n",
      "\n",
      "Validation 42\n",
      "Predicted review is good: False , actual review is good: True\n",
      "access to apps\n",
      "\n",
      "Validation 52\n",
      "Predicted review is good: True , actual review is good: False\n",
      "still need more ai built into it to interact better it needs to continue the conversation sometimes if the finding answer needs to be right you can t keep stop alexa and ask again and again also it should be able to access the wikipedia dictionary in many areas with better and fast access needs to hear us better also we should be able to name it on our own instead calling alexa or echo price can be reduced a bit value based and updates should be auto and daily to improve it connectivity to other home equipment can be imrproved as well good product with good sound quality but needs more ai built in\n",
      "\n",
      "Validation 56\n",
      "Predicted review is good: False , actual review is good: True\n",
      "this is the rd unit i purchased all the way from gen to the plus the only reason i purchased this is because it works so well and i wanted it in other rooms as well all my switches work great and i have had not issues i the past i did have some ghost commands when alexa would answer a question when no one asked her to but i think some recent ipdates may have resolved this it just keeps improving over time not with call capabilities i work with adapting smart homes and this is by far the cheapest best way so far can t wait to see what they come up with next\n",
      "\n",
      "Validation 60\n",
      "Predicted review is good: False , actual review is good: True\n",
      "i enjoy it still discovering new uses\n",
      "\n",
      "Validation 69\n",
      "Predicted review is good: False , actual review is good: True\n",
      "have alexa throughout the house the future has arrived\n",
      "\n",
      "Validation 72\n",
      "Predicted review is good: True , actual review is good: False\n",
      "we use alexa primarily for listening to music and checking the weather we are still learning other ways to use her everything has been ready and hands free so far the speaker has great volume and sound\n",
      "\n",
      "Validation 79\n",
      "Predicted review is good: True , actual review is good: False\n",
      "very helpful with daily activities\n",
      "\n",
      "Validation 84\n",
      "Predicted review is good: False , actual review is good: True\n",
      "i already have an alexa and with amazon find today i could not resist getting an echo also it is the best thing i ever did i use them on each side of the house and couldn t be happier\n",
      "\n",
      "Validation 86\n",
      "Predicted review is good: False , actual review is good: True\n",
      "i m so happy that i purchased alexa when i recently saw this at a friend s home he played some music while talking about the product i love the sound love that all i have to do is tell alexa or ask a question she responds immediately i haven t been able to listen to my cd s for a while since i have a problem within my stereo equipment for some time now so this makes me extremely happy that it s not an issue any longer\n",
      "\n",
      "Validation 87\n",
      "Predicted review is good: True , actual review is good: False\n",
      "love it to play music works great for finding recipes need more family to have adapted machines to see\n",
      "\n",
      "Validation 93\n",
      "Predicted review is good: False , actual review is good: True\n",
      "i really like the echo dot it s amazing to be able to set an alarm or timer just by talking to the echo dot\n",
      "\n",
      "Validation 105\n",
      "Predicted review is good: False , actual review is good: True\n",
      "i didn t realize it needed an external power source in order to utilize the fire stick i thought it was more along the lines of a flash drive device you singley plugged into your tv however since using my amazon fire stick i have enjoyed every moment of it and would definitely recommend this product to any and all\n",
      "\n",
      "Validation 109\n",
      "Predicted review is good: False , actual review is good: True\n",
      "i connected it to my whole home sound system to play prime music which my google home mini can t do it works well\n",
      "\n",
      "Validation 115\n",
      "Predicted review is good: False , actual review is good: True\n",
      "i love this thing the alexa feature makes it so easy to find what you want no matter which streaming service has it no more searching netflix then amazon etc to see if either has your show alexa finds it for you\n",
      "\n"
     ]
    }
   ],
   "source": [
    "error_count = 0\n",
    "for i, y in enumerate(validationY):\n",
    "    #p = model.predict(np.array([validationX[i]])).round()[0].astype('int32')\n",
    "    prediction = model2.predict(np.array([validationX[i]])).argmax() > 3\n",
    "    actual = y.argmax() > 3\n",
    "    if prediction != actual:\n",
    "        print(\"Validation\", i)\n",
    "        print(\"Predicted review is good:\", prediction, \", actual review is good:\", actual)\n",
    "        #print(validationX[i])\n",
    "        text = []\n",
    "        for word_i in validationX[i]:\n",
    "            if word_i in reverse_word_map:\n",
    "                text.append(reverse_word_map[word_i])\n",
    "        print(' '.join(text))\n",
    "        print()\n",
    "        error_count+=1"
   ]
  },
  {
   "cell_type": "code",
   "execution_count": 173,
   "metadata": {},
   "outputs": [
    {
     "name": "stdout",
     "output_type": "stream",
     "text": [
      "Accuracy of prediction whether review was good: 84.48275862068965\n"
     ]
    }
   ],
   "source": [
    "print(\"Accuracy of prediction whether review was good:\",(validationY.shape[0] - error_count)/validationY.shape[0] * 100)"
   ]
  },
  {
   "cell_type": "markdown",
   "metadata": {},
   "source": [
    "That's more like it! 84% accuracy in prediction whether the review was good or bad.\n",
    "\n",
    "The other helpful thing to use when analizing results is confucion matrix."
   ]
  },
  {
   "cell_type": "code",
   "execution_count": 178,
   "metadata": {},
   "outputs": [],
   "source": [
    "predicted = [x > 3 for x in model2.predict(validationX).argmax(axis=1)]\n",
    "actual = [x > 3 for x in validationY.argmax(axis=1)]"
   ]
  },
  {
   "cell_type": "code",
   "execution_count": 182,
   "metadata": {},
   "outputs": [],
   "source": [
    "from sklearn.metrics import confusion_matrix"
   ]
  },
  {
   "cell_type": "code",
   "execution_count": 195,
   "metadata": {},
   "outputs": [
    {
     "name": "stdout",
     "output_type": "stream",
     "text": [
      "True positive: 17 , True negative: 81 , False positive: 5 , False negative: 13\n"
     ]
    },
    {
     "data": {
      "image/png": "[encoded data removed]",
      "text/plain": [
       "<matplotlib.figure.Figure at 0xfe2171b8d0>"
      ]
     },
     "metadata": {
      "needs_background": "light"
     },
     "output_type": "display_data"
    }
   ],
   "source": [
    "cnf_matrix = confusion_matrix(actual, predicted)\n",
    "sns.heatmap(cnf_matrix)\n",
    "tn, fp, fn, tp = cnf_matrix.ravel()\n",
    "print(\"True positive:\", tp, \", True negative:\", tn,\n",
    "      \", False positive:\", fp, \", False negative:\", fn)"
   ]
  },
  {
   "cell_type": "markdown",
   "metadata": {},
   "source": [
    "It seems like the validation set is severely unbalanced - it contains far more negative reviews than positive.\n",
    "\n",
    "Regardless the confusion matrix results, in our case, for Amazon it would be worse to have False positive review than False negative, so our model's errors are rather acceptable.\n",
    "\n",
    "Now let's check our model against the test data. If it is not as unbalanced as validation set, there are good chances that model will perform better."
   ]
  },
  {
   "cell_type": "code",
   "execution_count": 197,
   "metadata": {},
   "outputs": [
    {
     "name": "stdout",
     "output_type": "stream",
     "text": [
      "117/117 [==============================] - 0s     \n",
      "[2.8617358717144046, 0.54700855210296107]\n"
     ]
    }
   ],
   "source": [
    "test_accuracy = model2.evaluate(testX, testY)\n",
    "print(test_accuracy)"
   ]
  },
  {
   "cell_type": "markdown",
   "metadata": {},
   "source": [
    "## 55% of accuracy in precise predicitons.\n",
    "Now let's check how model generally predicts whether reviews are good or not."
   ]
  },
  {
   "cell_type": "code",
   "execution_count": 264,
   "metadata": {},
   "outputs": [],
   "source": [
    "def check_general_accuracy(model, setX, setY):\n",
    "    predicted = [x > 3 for x in model.predict(setX).argmax(axis=1)]\n",
    "    actual = [x > 3 for x in setY.argmax(axis=1)]\n",
    "\n",
    "    cnf_matrix = confusion_matrix(actual, predicted)\n",
    "    sns.heatmap(cnf_matrix)\n",
    "    tn, fp, fn, tp = cnf_matrix.ravel()\n",
    "    print(\"True positive:\", tp, \", True negative:\", tn,\n",
    "          \", False positive:\", fp, \", False negative:\", fn)\n",
    "\n",
    "    print(\"Total accuracy:\", (tp+tn)/testX.shape[0]*100)"
   ]
  },
  {
   "cell_type": "code",
   "execution_count": 266,
   "metadata": {},
   "outputs": [
    {
     "name": "stdout",
     "output_type": "stream",
     "text": [
      "True positive: 10 , True negative: 83 , False positive: 14 , False negative: 10\n",
      "Total accuracy: 79.4871794872\n"
     ]
    },
    {
     "data": {
      "image/png": "[encoded data removed]",
      "text/plain": [
       "<matplotlib.figure.Figure at 0xfe2890b3c8>"
      ]
     },
     "metadata": {
      "needs_background": "light"
     },
     "output_type": "display_data"
    }
   ],
   "source": [
    "check_general_accuracy(model2, testX, testY)"
   ]
  },
  {
   "cell_type": "markdown",
   "metadata": {},
   "source": [
    "We didn't get improvements in performing on test set, sadly. Nevertheless, **79,5%** of accuracy in predicting general moods of reviews."
   ]
  },
  {
   "cell_type": "markdown",
   "metadata": {},
   "source": [
    "Possible ways to improve model:\n",
    "* get bigger dataset\n",
    "* balance dataset better\n",
    "* perform more diligent search for optimal hyperparameters\n",
    "* try other models"
   ]
  },
  {
   "cell_type": "markdown",
   "metadata": {},
   "source": [
    "# Convolutional model"
   ]
  },
  {
   "cell_type": "markdown",
   "metadata": {},
   "source": [
    "Before wrapping up, let's try to solve this problem using another architecture of model.\n",
    "\n",
    "We had a choice to treat each word in sentence as just another value and feed it into plain neural network, or treat it as a sequence in RNN, and we used it as such.\n",
    "\n",
    "Now, we can try a somewhat middleground at this. Convolutional neural network, due to it's nature will have an effect of a sequence model with rolling window of chosen width."
   ]
  },
  {
   "cell_type": "code",
   "execution_count": 201,
   "metadata": {},
   "outputs": [],
   "source": [
    "from keras.layers import Conv1D, MaxPooling1D"
   ]
  },
  {
   "cell_type": "code",
   "execution_count": 328,
   "metadata": {},
   "outputs": [],
   "source": [
    "def simple_conv_model(input_shape, output_shape):\n",
    "    model = Sequential()\n",
    "    model.add(embedding_layer)\n",
    "    \n",
    "    model.add(Conv1D(32, 5, activation='relu'))\n",
    "    model.add(Conv1D(64, 5, activation='relu'))\n",
    "    model.add(MaxPooling1D(5))\n",
    "    model.add(Dropout(0.2))\n",
    "        \n",
    "    model.add(Flatten())\n",
    "    model.add(Dense(128, activation='relu'))\n",
    "    model.add(Dropout(0.4))\n",
    "    \n",
    "    model.add(Dense(output_shape, activation='softmax'))\n",
    "    return model"
   ]
  },
  {
   "cell_type": "code",
   "execution_count": 329,
   "metadata": {},
   "outputs": [],
   "source": [
    "model = simple_conv_model(trainX.shape[1], trainY.shape[1])\n",
    "model.compile(loss='categorical_crossentropy', optimizer='rmsprop',metrics=['accuracy'])"
   ]
  },
  {
   "cell_type": "code",
   "execution_count": 327,
   "metadata": {},
   "outputs": [
    {
     "name": "stdout",
     "output_type": "stream",
     "text": [
      "_________________________________________________________________\n",
      "Layer (type)                 Output Shape              Param #   \n",
      "=================================================================\n",
      "embedding_3 (Embedding)      (None, 370, 100)          295600    \n",
      "_________________________________________________________________\n",
      "conv1d_75 (Conv1D)           (None, 366, 16)           8016      \n",
      "_________________________________________________________________\n",
      "conv1d_76 (Conv1D)           (None, 362, 32)           2592      \n",
      "_________________________________________________________________\n",
      "dropout_73 (Dropout)         (None, 362, 32)           0         \n",
      "_________________________________________________________________\n",
      "flatten_30 (Flatten)         (None, 11584)             0         \n",
      "_________________________________________________________________\n",
      "dense_124 (Dense)            (None, 64)                741440    \n",
      "_________________________________________________________________\n",
      "dropout_74 (Dropout)         (None, 64)                0         \n",
      "_________________________________________________________________\n",
      "dense_125 (Dense)            (None, 5)                 325       \n",
      "=================================================================\n",
      "Total params: 1,047,973\n",
      "Trainable params: 752,373\n",
      "Non-trainable params: 295,600\n",
      "_________________________________________________________________\n"
     ]
    }
   ],
   "source": [
    "model.summary()"
   ]
  },
  {
   "cell_type": "code",
   "execution_count": 321,
   "metadata": {},
   "outputs": [],
   "source": [
    "from keras.callbacks import ModelCheckpoint\n",
    "checkpoint = ModelCheckpoint(\"weights-improvements.hdf5\",\n",
    "     monitor='val_acc', verbose=1, save_best_only=True, mode='max')"
   ]
  },
  {
   "cell_type": "code",
   "execution_count": 322,
   "metadata": {},
   "outputs": [
    {
     "name": "stdout",
     "output_type": "stream",
     "text": [
      "Train on 931 samples, validate on 116 samples\n",
      "Epoch 1/10\n",
      "896/931 [===========================>..] - ETA: 0s - loss: 0.1879 - acc: 0.9196Epoch 00000: val_acc improved from -inf to 0.58621, saving model to weights-improvements.hdf5\n",
      "931/931 [==============================] - 1s - loss: 0.1811 - acc: 0.9227 - val_loss: 3.1441 - val_acc: 0.5862\n",
      "Epoch 2/10\n",
      "896/931 [===========================>..] - ETA: 0s - loss: 0.1726 - acc: 0.9252Epoch 00001: val_acc improved from 0.58621 to 0.60345, saving model to weights-improvements.hdf5\n",
      "931/931 [==============================] - 1s - loss: 0.1712 - acc: 0.9259 - val_loss: 3.1380 - val_acc: 0.6034\n",
      "Epoch 3/10\n",
      "896/931 [===========================>..] - ETA: 0s - loss: 0.1659 - acc: 0.9286Epoch 00002: val_acc improved from 0.60345 to 0.61207, saving model to weights-improvements.hdf5\n",
      "931/931 [==============================] - 1s - loss: 0.1698 - acc: 0.9280 - val_loss: 3.2796 - val_acc: 0.6121\n",
      "Epoch 4/10\n",
      "896/931 [===========================>..] - ETA: 0s - loss: 0.1966 - acc: 0.9152Epoch 00003: val_acc did not improve\n",
      "931/931 [==============================] - 1s - loss: 0.1917 - acc: 0.9162 - val_loss: 2.8314 - val_acc: 0.5862\n",
      "Epoch 5/10\n",
      "896/931 [===========================>..] - ETA: 0s - loss: 0.1758 - acc: 0.9241Epoch 00004: val_acc did not improve\n",
      "931/931 [==============================] - 1s - loss: 0.1741 - acc: 0.9259 - val_loss: 3.1389 - val_acc: 0.5862\n",
      "Epoch 6/10\n",
      "896/931 [===========================>..] - ETA: 0s - loss: 0.1807 - acc: 0.9230Epoch 00005: val_acc did not improve\n",
      "931/931 [==============================] - 1s - loss: 0.1845 - acc: 0.9216 - val_loss: 3.0074 - val_acc: 0.6034\n",
      "Epoch 7/10\n",
      "896/931 [===========================>..] - ETA: 0s - loss: 0.1740 - acc: 0.9241Epoch 00006: val_acc did not improve\n",
      "931/931 [==============================] - 1s - loss: 0.1717 - acc: 0.9248 - val_loss: 3.5379 - val_acc: 0.6034\n",
      "Epoch 8/10\n",
      "896/931 [===========================>..] - ETA: 0s - loss: 0.1709 - acc: 0.9263Epoch 00007: val_acc did not improve\n",
      "931/931 [==============================] - 1s - loss: 0.1722 - acc: 0.9248 - val_loss: 3.3278 - val_acc: 0.5862\n",
      "Epoch 9/10\n",
      "896/931 [===========================>..] - ETA: 0s - loss: 0.1802 - acc: 0.9196Epoch 00008: val_acc did not improve\n",
      "931/931 [==============================] - 1s - loss: 0.1774 - acc: 0.9216 - val_loss: 3.4698 - val_acc: 0.5690\n",
      "Epoch 10/10\n",
      "896/931 [===========================>..] - ETA: 0s - loss: 0.1799 - acc: 0.9208Epoch 00009: val_acc did not improve\n",
      "931/931 [==============================] - 1s - loss: 0.1769 - acc: 0.9227 - val_loss: 3.5263 - val_acc: 0.5517\n"
     ]
    },
    {
     "data": {
      "text/plain": [
       "<keras.callbacks.History at 0xfe28812668>"
      ]
     },
     "execution_count": 322,
     "metadata": {},
     "output_type": "execute_result"
    }
   ],
   "source": [
    "model.fit(trainX, trainY, validation_data=(validationX, validationY),\n",
    "          batch_size=64, callbacks=[checkpoint], epochs=10)"
   ]
  },
  {
   "cell_type": "code",
   "execution_count": 323,
   "metadata": {},
   "outputs": [],
   "source": [
    "model.load_weights(\"weights-improvements.hdf5\")"
   ]
  },
  {
   "cell_type": "markdown",
   "metadata": {},
   "source": [
    "Not too great in precise rating predictions."
   ]
  },
  {
   "cell_type": "code",
   "execution_count": 324,
   "metadata": {},
   "outputs": [
    {
     "name": "stdout",
     "output_type": "stream",
     "text": [
      "True positive: 15 , True negative: 72 , False positive: 25 , False negative: 5\n",
      "Total accuracy: 74.358974359\n"
     ]
    },
    {
     "data": {
      "image/png": "[encoded data removed]",
      "text/plain": [
       "<matplotlib.figure.Figure at 0xfe31e669e8>"
      ]
     },
     "metadata": {
      "needs_background": "light"
     },
     "output_type": "display_data"
    }
   ],
   "source": [
    "check_general_accuracy(model, testX, testY)"
   ]
  },
  {
   "cell_type": "markdown",
   "metadata": {},
   "source": [
    "# 74% of general accuracy for convolutional network\n",
    "Convolutional neural network predictions was slightly less accurate comparing to LSTM-based network, but no major tuning was performed.\n",
    "\n",
    "Possible improvements stay same as for LSTM-based network:\n",
    "* get bigger dataset\n",
    "* balance dataset better\n",
    "* perform more diligent search for optimal hyperparameters"
   ]
  },
  {
   "cell_type": "code",
   "execution_count": null,
   "metadata": {},
   "outputs": [],
   "source": []
  }
 ],
 "metadata": {
  "kernelspec": {
   "display_name": "Python 3",
   "language": "python",
   "name": "python3"
  },
  "language_info": {
   "codemirror_mode": {
    "name": "ipython",
    "version": 3
   },
   "file_extension": ".py",
   "mimetype": "text/x-python",
   "name": "python",
   "nbconvert_exporter": "python",
   "pygments_lexer": "ipython3",
   "version": "3.6.2"
  }
 },
 "nbformat": 4,
 "nbformat_minor": 2
}
